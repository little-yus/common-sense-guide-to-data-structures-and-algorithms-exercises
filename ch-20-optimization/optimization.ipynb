{
 "cells": [
  {
   "cell_type": "code",
   "execution_count": 4,
   "id": "cdf47435-dab1-4072-b516-14786538b790",
   "metadata": {},
   "outputs": [
    {
     "data": {
      "text/plain": [
       "['Jill Huang', 'Wanda Vakulskas']"
      ]
     },
     "execution_count": 4,
     "metadata": {},
     "output_type": "execute_result"
    }
   ],
   "source": [
    "# 1. You’re working on software that analyzes sports players. Following are\n",
    "# two arrays of players of different sports:\n",
    "\n",
    "basketball_players = [\n",
    "    {\"first_name\": \"Jill\", \"last_name\": \"Huang\", \"team\": \"Gators\"},\n",
    "    {\"first_name\": \"Janko\", \"last_name\": \"Barton\", \"team\": \"Sharks\"},\n",
    "    {\"first_name\": \"Wanda\", \"last_name\": \"Vakulskas\", \"team\": \"Sharks\"},\n",
    "    {\"first_name\": \"Jill\", \"last_name\": \"Moloney\", \"team\": \"Gators\"},\n",
    "    {\"first_name\": \"Luuk\", \"last_name\": \"Watkins\", \"team\": \"Gators\"}\n",
    "]\n",
    "\n",
    "football_players = [\n",
    "    {\"first_name\": \"Hanzla\", \"last_name\": \"Radosti\", \"team\": \"32ers\"},\n",
    "    {\"first_name\": \"Tina\", \"last_name\": \"Watkins\", \"team\": \"Barleycorns\"},\n",
    "    {\"first_name\": \"Alex\", \"last_name\": \"Patel\", \"team\": \"32ers\"},\n",
    "    {\"first_name\": \"Jill\", \"last_name\": \"Huang\", \"team\": \"Barleycorns\"},\n",
    "    {\"first_name\": \"Wanda\", \"last_name\": \"Vakulskas\", \"team\": \"Barleycorns\"}\n",
    "]\n",
    "\n",
    "# If you look carefully, you’ll see that there are some players who participate\n",
    "# in more than one kind of sport. Jill Huang and Wanda Vakulskas play\n",
    "# both basketball and football.\n",
    "# You are to write a function that accepts two arrays of players and returns\n",
    "# an array of the players who play in both sports. In this case, that would be:\n",
    "# [\"Jill Huang\", \"Wanda Vakulskas\"]\n",
    "# While there are players who share first names and players who share last\n",
    "# names, we can assume there’s only one person who has a particular full\n",
    "# name (meaning first and last name).\n",
    "# We can use a nested-loops approach, comparing each player from one\n",
    "# array against each player from the other array, but this would have a\n",
    "# runtime of O(N * M). Your job is to optimize the function so that it can\n",
    "# run in just O(N + M).\n",
    "\n",
    "def players_in_both_teams(team_a, team_b):\n",
    "    play_in_team_a = {}\n",
    "    play_in_both_teams = []\n",
    "    \n",
    "    for player in team_a:\n",
    "        play_in_team_a[(player[\"first_name\"], player[\"last_name\"])] = True\n",
    "    \n",
    "    for player in team_b:\n",
    "        if (player[\"first_name\"], player[\"last_name\"]) in play_in_team_a:\n",
    "            play_in_both_teams.append(player[\"first_name\"] + \" \" + player[\"last_name\"])\n",
    "    \n",
    "    return play_in_both_teams\n",
    "\n",
    "players_in_both_teams(basketball_players, football_players)"
   ]
  },
  {
   "cell_type": "code",
   "execution_count": 6,
   "id": "5f062d12-8a09-4c4b-9221-a1f7c6d67215",
   "metadata": {},
   "outputs": [
    {
     "name": "stdout",
     "output_type": "stream",
     "text": [
      "4\n",
      "1\n"
     ]
    }
   ],
   "source": [
    "# 2. You’re writing a function that accepts an array of distinct integers from\n",
    "# 0, 1, 2, 3 … up to N. However, the array will be missing one integer, and\n",
    "# your function is to return the missing one.\n",
    "# For example, this array has all the integers from 0 to 6, but is missing\n",
    "# the 4:\n",
    "# [2, 3, 0, 6, 1, 5]\n",
    "# Therefore, the function should return 4.\n",
    "# The next example has all the integers from 0 to 9, but is missing the 1:\n",
    "# [8, 2, 3, 9, 4, 7, 5, 0, 6]\n",
    "# In this case, the function should return the 1.\n",
    "# Using a nested-loops approach would take up to O(N^2). Your job is to\n",
    "# optimize the code so that it has a runtime of O(N).\n",
    "\n",
    "# Classic interview problem\n",
    "# max and sum are both O(n)\n",
    "# could be done in a single pass though\n",
    "def find_missing_number(numbers):\n",
    "    n = max(numbers)\n",
    "    arithmetic_series_sum = n * (n + 1) //2\n",
    "    return arithmetic_series_sum - sum(numbers)\n",
    "\n",
    "print(find_missing_number([2, 3, 0, 6, 1, 5]))\n",
    "print(find_missing_number([8, 2, 3, 9, 4, 7, 5, 0, 6]))"
   ]
  },
  {
   "cell_type": "code",
   "execution_count": 11,
   "id": "3028c323-b160-4d47-868e-3a809567ce53",
   "metadata": {},
   "outputs": [
    {
     "data": {
      "text/plain": [
       "6"
      ]
     },
     "execution_count": 11,
     "metadata": {},
     "output_type": "execute_result"
    }
   ],
   "source": [
    "# 3. You’re working on some more stock-prediction software. The function\n",
    "# you’re writing accepts an array of predicted prices for a particular stock\n",
    "# over the course of time.\n",
    "# For example, this array of seven prices:\n",
    "# [10, 7, 5, 8, 11, 2, 6]\n",
    "# predicts that a given stock will have these prices over the next seven days.\n",
    "# (On Day 1, the stock will close at $10; on Day 2, the stock will close at\n",
    "# $7; and so on.)\n",
    "# Your function should calculate the greatest profit that could be made\n",
    "# from a single “buy” transaction followed by a single “sell” transaction.\n",
    "# In the previous example, the most money could be made if we bought the\n",
    "# stock when it was worth $5 and sold it when it was worth $11. This yields\n",
    "# a profit of $6 per share.\n",
    "# Note that we could make even more money if we buy and sell multiple\n",
    "# times, but for now, this function focuses on the most profit that could be\n",
    "# made from just one purchase followed by one sale.\n",
    "# Now, we could use nested loops to find the profit of every possible buy-\n",
    "# and-sell combination. However, this would be O(N2) and too slow for our\n",
    "# hotshot trading platform. Your job is to optimize the code so that the\n",
    "# function clocks in at just O(N).\n",
    "\n",
    "import math\n",
    "\n",
    "def calculate_max_profit(stock_prices):\n",
    "    min_price = stock_prices[0]\n",
    "    max_profit = 0\n",
    "    \n",
    "    for price in stock_prices[1:]:\n",
    "        if price < min_price:\n",
    "            min_price = price\n",
    "        elif price - min_price > max_profit:\n",
    "            max_profit = price - min_price\n",
    "    \n",
    "    return max_profit\n",
    "\n",
    "calculate_max_profit([10, 7, 5, 8, 11, 2, 6])"
   ]
  },
  {
   "cell_type": "code",
   "execution_count": 15,
   "id": "06fa12f2-8e5d-45e7-868e-bdc248fa92da",
   "metadata": {},
   "outputs": [
    {
     "name": "stdout",
     "output_type": "stream",
     "text": [
      "60\n",
      "12\n",
      "12\n",
      "-6\n",
      "\n",
      "20\n",
      "21\n",
      "28\n",
      "30\n",
      "42\n"
     ]
    }
   ],
   "source": [
    "# 4. You’re writing a function that accepts an array of numbers and computes\n",
    "# the highest product of any two numbers in the array. At first glance, this\n",
    "# is easy, as we can just find the two greatest numbers and multiply them.\n",
    "# However, our array can contain negative numbers and look like this:\n",
    "# [5, -10, -6, 9, 4]\n",
    "# In this case, it’s actually the product of the two lowest numbers, -10 and\n",
    "# -6 that yield the highest product of 60.\n",
    "# We could use nested loops to multiply every possible pair of numbers,\n",
    "# but this would take O(N2) time. Your job is to optimize the function so\n",
    "# that it’s a speedy O(N).\n",
    "\n",
    "# My own solution O(N + N + N) = O(3N) = O(N)\n",
    "# One from the book finds everything in one pass\n",
    "def calculate_max_product(numbers):\n",
    "    min_index = numbers.index(min(numbers))\n",
    "    max_index = numbers.index(max(numbers))\n",
    "    \n",
    "    max_product = numbers[min_index] * numbers[max_index]\n",
    "    \n",
    "    for index, number in enumerate(numbers):\n",
    "        if index != min_index and numbers[min_index] * number > max_product:\n",
    "            max_product = numbers[min_index] * number\n",
    "        if index != max_index and numbers[max_index] * number > max_product:\n",
    "            max_product = numbers[max_index] * number\n",
    "    \n",
    "    return max_product\n",
    "\n",
    "# My testcases\n",
    "print(calculate_max_product([5, -10, -6, 9, 4]))\n",
    "print(calculate_max_product([1, 4, 2, 3]))\n",
    "print(calculate_max_product([-1, -4, -2, -3]))\n",
    "print(calculate_max_product([-2, 3]))\n",
    "print()\n",
    "\n",
    "# Testcases from the book\n",
    "print(calculate_max_product([-5, -4, -3, 0, 3, 4])) # -> Greatest product: 20 (-5 * -4)\n",
    "print(calculate_max_product([-9, -2, -1, 2, 3, 7])) # -> Greatest product: 21 (3 * 7)\n",
    "print(calculate_max_product([-7, -4, -3, 0, 4, 6])) # -> Greatest product: 28 (-7 * -4)\n",
    "print(calculate_max_product([-6, -5, -1, 2, 3, 9])) # -> Greatest product: 30 (-6 * -5)\n",
    "print(calculate_max_product([-9, -4, -3, 0, 6, 7])) # -> Greatest product: 42 (6 * 7)"
   ]
  },
  {
   "cell_type": "code",
   "execution_count": 24,
   "id": "60905c47-239e-4a4c-b16b-61d84194caab",
   "metadata": {},
   "outputs": [
    {
     "data": {
      "text/plain": [
       "[97.1, 97.1, 97.8, 98.0, 98.0, 98.2, 98.5, 98.6, 98.9, 99.0]"
      ]
     },
     "execution_count": 24,
     "metadata": {},
     "output_type": "execute_result"
    }
   ],
   "source": [
    "# 5. You’re creating software that analyzes the data of body temperature\n",
    "# readings taken from hundreds of human patients. These readings are\n",
    "# taken from healthy people and range from 97.0 degrees Fahrenheit to\n",
    "# 99.0 degrees Fahrenheit. An important point: within this application, the\n",
    "# decimal point never goes beyond the tenths place.\n",
    "# Here’s a sample array of temperature readings:\n",
    "# [98.6, 98.0, 97.1, 99.0, 98.9, 97.8, 98.5, 98.2, 98.0, 97.1]\n",
    "# You are to write a function that sorts these readings from lowest to highest.\n",
    "# If you used a classic sorting algorithm such as Quicksort, this would take\n",
    "# O(N log N). However, in this case, it’s actually possible to write a faster\n",
    "# sorting algorithm.\n",
    "# Yes, that’s right. Even though you’ve learned that the fastest sorts are\n",
    "# O(N log N), this case is different. Why? In this case, there’s a limited\n",
    "# number of possibilities of what the readings will be. In such a case, we\n",
    "# can sort these values in O(N). It may be N multiplied by a constant, but\n",
    "# that’s still considered O(N).\n",
    "\n",
    "def sort_temperature_readings(temperature_readings):\n",
    "    # there are 990 - 970 + 1 possible readings\n",
    "    min_temperature = 97.0\n",
    "    max_temperature = 99.0\n",
    "    \n",
    "    # Could use array for this specific usecase\n",
    "    temperature_counts = {}\n",
    "    \n",
    "    for temperature in temperature_readings:\n",
    "        if temperature in temperature_counts:\n",
    "            temperature_counts[temperature] += 1\n",
    "        else:\n",
    "            temperature_counts[temperature] = 1\n",
    "    \n",
    "    sorted_temperature_readings = []\n",
    "    for temperature_times_10 in range(round(min_temperature * 10), round(max_temperature * 10) + 1):\n",
    "        temperature = temperature_times_10 / 10\n",
    "        if temperature in temperature_counts:\n",
    "            sorted_temperature_readings.extend([temperature] * temperature_counts[temperature])\n",
    "    \n",
    "    return sorted_temperature_readings\n",
    "\n",
    "sort_temperature_readings([98.6, 98.0, 97.1, 99.0, 98.9, 97.8, 98.5, 98.2, 98.0, 97.1])"
   ]
  },
  {
   "cell_type": "code",
   "execution_count": 54,
   "id": "c2dde5c3-d0b1-49e5-8375-2c17a806f581",
   "metadata": {},
   "outputs": [
    {
     "name": "stdout",
     "output_type": "stream",
     "text": [
      "Steps: 9\n",
      "4\n",
      "Steps: 8\n",
      "5\n"
     ]
    }
   ],
   "source": [
    "# 6. You’re writing a function that accepts an array of unsorted integers and\n",
    "# returns the length of the longest consecutive sequence among them. The\n",
    "# sequence is formed by integers that increase by 1. For example, in the\n",
    "# array:\n",
    "# [10, 5, 12, 3, 55, 30, 4, 11, 2]\n",
    "# the longest consecutive sequence is 2-3-4-5. These four integers form an\n",
    "# increasing sequence because each integer is one greater than the previous\n",
    "# one. While there’s also a sequence of 10-11-12, it’s only a sequence of\n",
    "# three integers. In this case, the function should return 4, since that’s the\n",
    "# length of the longest consecutive sequence that can be formed from this\n",
    "# array.\n",
    "# One more example:\n",
    "# [19, 13, 15, 12, 18, 14, 17, 11]\n",
    "# This array’s longest sequence is 11-12-13-14-15, so the function would\n",
    "# return 5.\n",
    "# If we sorted the array, we can then traverse the array just once to find\n",
    "# the longest consecutive sequence. However, the sorting itself would take\n",
    "# O(N log N). Your job is to optimize the function so that it takes O(N) time.\n",
    "\n",
    "def calculate_longest_consecutive_sequence(array):\n",
    "    array_elements = {}\n",
    "    for number in array:\n",
    "        array_elements[number] = True\n",
    "    \n",
    "    # Counter to prove that inside this loop every array element is visited once\n",
    "    # Should be equal to len(array) when printed\n",
    "    step_counter = 0\n",
    "    \n",
    "    max_sequence_length = 0\n",
    "    for number in array:\n",
    "        # We check if number starts the sequence\n",
    "        if number - 1 not in array_elements:\n",
    "            sequence_length = 1\n",
    "            current_number = number\n",
    "            step_counter += 1 # test\n",
    "            while current_number + 1 in array_elements:\n",
    "                sequence_length += 1\n",
    "                current_number = current_number + 1\n",
    "                step_counter += 1 # test\n",
    "            \n",
    "            if sequence_length > max_sequence_length:\n",
    "                max_sequence_length = sequence_length\n",
    "                \n",
    "    print(f\"Steps: {step_counter}\") # test\n",
    "    return max_sequence_length\n",
    "\n",
    "print(calculate_longest_consecutive_sequence([10, 5, 12, 3, 55, 30, 4, 11, 2]))\n",
    "print(calculate_longest_consecutive_sequence([19, 13, 15, 12, 18, 14, 17, 11]))"
   ]
  }
 ],
 "metadata": {
  "kernelspec": {
   "display_name": "Python 3 (ipykernel)",
   "language": "python",
   "name": "python3"
  },
  "language_info": {
   "codemirror_mode": {
    "name": "ipython",
    "version": 3
   },
   "file_extension": ".py",
   "mimetype": "text/x-python",
   "name": "python",
   "nbconvert_exporter": "python",
   "pygments_lexer": "ipython3",
   "version": "3.9.12"
  }
 },
 "nbformat": 4,
 "nbformat_minor": 5
}
