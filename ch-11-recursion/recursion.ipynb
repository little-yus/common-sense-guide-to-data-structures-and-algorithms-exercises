{
 "cells": [
  {
   "cell_type": "code",
   "execution_count": 5,
   "id": "dc1a1a7f-a71a-4d0c-8436-536d785eeb1c",
   "metadata": {},
   "outputs": [],
   "source": [
    "# 1. Use recursion to write a function that accepts an array of strings and returns the total number of characters across all the strings.\n",
    "def count_characters(arr):\n",
    "    if len(arr) == 0:\n",
    "        return 0\n",
    "    \n",
    "    return len(arr[0]) + count_characters(arr[1:])"
   ]
  },
  {
   "cell_type": "code",
   "execution_count": 10,
   "id": "73633108-9042-44a9-aad7-6a6880c44150",
   "metadata": {},
   "outputs": [
    {
     "name": "stdout",
     "output_type": "stream",
     "text": [
      "0\n",
      "0\n",
      "5\n",
      "10\n"
     ]
    }
   ],
   "source": [
    "print(count_characters([]))\n",
    "print(count_characters([\"\"]))\n",
    "print(count_characters([\"abcde\"]))\n",
    "print(count_characters([\"ab\", \"c\", \"def\", \"ghij\"]))"
   ]
  },
  {
   "cell_type": "code",
   "execution_count": 13,
   "id": "fdce5828-cc45-40b1-b642-6a0a7e95a0fb",
   "metadata": {},
   "outputs": [],
   "source": [
    "def is_even(x):\n",
    "    return x % 2 == 0\n",
    "\n",
    "# 2. Use recursion to write a function that accepts an array of numbers and returns a new array containing just the even numbers.\n",
    "def select_even_numbers(arr):\n",
    "    if len(arr) == 0:\n",
    "        return []\n",
    "    \n",
    "    if is_even(arr[0]):\n",
    "        return [arr[0]] + select_even_numbers(arr[1:])\n",
    "    else:\n",
    "        return select_even_numbers(arr[1:])"
   ]
  },
  {
   "cell_type": "code",
   "execution_count": 16,
   "id": "5972ecba-1a11-40ae-a961-3b13cd602398",
   "metadata": {},
   "outputs": [
    {
     "name": "stdout",
     "output_type": "stream",
     "text": [
      "[]\n",
      "[]\n",
      "[2]\n",
      "[]\n",
      "[2, 4, 6]\n",
      "[2, 4, 6]\n"
     ]
    }
   ],
   "source": [
    "print(select_even_numbers([]))\n",
    "print(select_even_numbers([1]))\n",
    "print(select_even_numbers([2]))\n",
    "print(select_even_numbers([1, 3, 5]))\n",
    "print(select_even_numbers([2, 4, 6]))\n",
    "print(select_even_numbers([1, 2, 3, 4, 5, 6]))"
   ]
  },
  {
   "cell_type": "code",
   "execution_count": 33,
   "id": "b1715cf7-1146-4bd9-bff6-f352f3d4bc60",
   "metadata": {},
   "outputs": [],
   "source": [
    "# 3. Write a function that accepts a number for N and returns Nth triangular number.\n",
    "def calculate_triangular_number(N):\n",
    "    if N == 1:\n",
    "        return 1\n",
    "    \n",
    "    return N + calculate_triangular_number(N - 1)"
   ]
  },
  {
   "cell_type": "code",
   "execution_count": 34,
   "id": "4194da9d-ead4-4f04-bd85-37418ac829c9",
   "metadata": {},
   "outputs": [
    {
     "name": "stdout",
     "output_type": "stream",
     "text": [
      "[1, 3, 6, 10, 15, 21, 28, 36, 45, 55]\n",
      "28\n"
     ]
    }
   ],
   "source": [
    "print([calculate_triangular_number(i) for i in range(1, 11)])\n",
    "print(calculate_triangular_number(7))"
   ]
  },
  {
   "cell_type": "code",
   "execution_count": 20,
   "id": "8e2b8704-88a4-4759-b161-4ad0a986bbcc",
   "metadata": {},
   "outputs": [],
   "source": [
    "# 4. Use recursion to write a function that accepts a string and returns the first index that contains the character 'x'\n",
    "# Assume that string contains at least one x\n",
    "def find_first_x_position(input_string):\n",
    "    if input_string[0] == 'x':\n",
    "        return 0\n",
    "    else:\n",
    "        return 1 + find_first_x_position(input_string[1:])"
   ]
  },
  {
   "cell_type": "code",
   "execution_count": 26,
   "id": "4b3c7046-781d-4486-8169-fd0dc27d1961",
   "metadata": {},
   "outputs": [
    {
     "ename": "IndexError",
     "evalue": "string index out of range",
     "output_type": "error",
     "traceback": [
      "\u001b[1;31m---------------------------------------------------------------------------\u001b[0m",
      "\u001b[1;31mIndexError\u001b[0m                                Traceback (most recent call last)",
      "Input \u001b[1;32mIn [26]\u001b[0m, in \u001b[0;36m<cell line: 2>\u001b[1;34m()\u001b[0m\n\u001b[0;32m      1\u001b[0m \u001b[38;5;66;03m# fails as expected\u001b[39;00m\n\u001b[1;32m----> 2\u001b[0m \u001b[38;5;28mprint\u001b[39m(\u001b[43mfind_first_x_position\u001b[49m\u001b[43m(\u001b[49m\u001b[38;5;124;43m\"\u001b[39;49m\u001b[38;5;124;43m\"\u001b[39;49m\u001b[43m)\u001b[49m)\n",
      "Input \u001b[1;32mIn [20]\u001b[0m, in \u001b[0;36mfind_first_x_position\u001b[1;34m(input_string)\u001b[0m\n\u001b[0;32m      3\u001b[0m \u001b[38;5;28;01mdef\u001b[39;00m \u001b[38;5;21mfind_first_x_position\u001b[39m(input_string):\n\u001b[1;32m----> 4\u001b[0m     \u001b[38;5;28;01mif\u001b[39;00m \u001b[43minput_string\u001b[49m\u001b[43m[\u001b[49m\u001b[38;5;241;43m0\u001b[39;49m\u001b[43m]\u001b[49m \u001b[38;5;241m==\u001b[39m \u001b[38;5;124m'\u001b[39m\u001b[38;5;124mx\u001b[39m\u001b[38;5;124m'\u001b[39m:\n\u001b[0;32m      5\u001b[0m         \u001b[38;5;28;01mreturn\u001b[39;00m \u001b[38;5;241m0\u001b[39m\n\u001b[0;32m      6\u001b[0m     \u001b[38;5;28;01melse\u001b[39;00m:\n",
      "\u001b[1;31mIndexError\u001b[0m: string index out of range"
     ]
    }
   ],
   "source": [
    "# fails as expected\n",
    "print(find_first_x_position(\"\"))"
   ]
  },
  {
   "cell_type": "code",
   "execution_count": 27,
   "id": "0d44f069-61a3-47fb-8df3-2eabe25a48c6",
   "metadata": {},
   "outputs": [
    {
     "ename": "IndexError",
     "evalue": "string index out of range",
     "output_type": "error",
     "traceback": [
      "\u001b[1;31m---------------------------------------------------------------------------\u001b[0m",
      "\u001b[1;31mIndexError\u001b[0m                                Traceback (most recent call last)",
      "Input \u001b[1;32mIn [27]\u001b[0m, in \u001b[0;36m<cell line: 2>\u001b[1;34m()\u001b[0m\n\u001b[0;32m      1\u001b[0m \u001b[38;5;66;03m# same\u001b[39;00m\n\u001b[1;32m----> 2\u001b[0m \u001b[38;5;28mprint\u001b[39m(\u001b[43mfind_first_x_position\u001b[49m\u001b[43m(\u001b[49m\u001b[38;5;124;43m\"\u001b[39;49m\u001b[38;5;124;43mabc\u001b[39;49m\u001b[38;5;124;43m\"\u001b[39;49m\u001b[43m)\u001b[49m)\n",
      "Input \u001b[1;32mIn [20]\u001b[0m, in \u001b[0;36mfind_first_x_position\u001b[1;34m(input_string)\u001b[0m\n\u001b[0;32m      5\u001b[0m     \u001b[38;5;28;01mreturn\u001b[39;00m \u001b[38;5;241m0\u001b[39m\n\u001b[0;32m      6\u001b[0m \u001b[38;5;28;01melse\u001b[39;00m:\n\u001b[1;32m----> 7\u001b[0m     \u001b[38;5;28;01mreturn\u001b[39;00m \u001b[38;5;241m1\u001b[39m \u001b[38;5;241m+\u001b[39m \u001b[43mfind_first_x_position\u001b[49m\u001b[43m(\u001b[49m\u001b[43minput_string\u001b[49m\u001b[43m[\u001b[49m\u001b[38;5;241;43m1\u001b[39;49m\u001b[43m:\u001b[49m\u001b[43m]\u001b[49m\u001b[43m)\u001b[49m\n",
      "Input \u001b[1;32mIn [20]\u001b[0m, in \u001b[0;36mfind_first_x_position\u001b[1;34m(input_string)\u001b[0m\n\u001b[0;32m      5\u001b[0m     \u001b[38;5;28;01mreturn\u001b[39;00m \u001b[38;5;241m0\u001b[39m\n\u001b[0;32m      6\u001b[0m \u001b[38;5;28;01melse\u001b[39;00m:\n\u001b[1;32m----> 7\u001b[0m     \u001b[38;5;28;01mreturn\u001b[39;00m \u001b[38;5;241m1\u001b[39m \u001b[38;5;241m+\u001b[39m \u001b[43mfind_first_x_position\u001b[49m\u001b[43m(\u001b[49m\u001b[43minput_string\u001b[49m\u001b[43m[\u001b[49m\u001b[38;5;241;43m1\u001b[39;49m\u001b[43m:\u001b[49m\u001b[43m]\u001b[49m\u001b[43m)\u001b[49m\n",
      "Input \u001b[1;32mIn [20]\u001b[0m, in \u001b[0;36mfind_first_x_position\u001b[1;34m(input_string)\u001b[0m\n\u001b[0;32m      5\u001b[0m     \u001b[38;5;28;01mreturn\u001b[39;00m \u001b[38;5;241m0\u001b[39m\n\u001b[0;32m      6\u001b[0m \u001b[38;5;28;01melse\u001b[39;00m:\n\u001b[1;32m----> 7\u001b[0m     \u001b[38;5;28;01mreturn\u001b[39;00m \u001b[38;5;241m1\u001b[39m \u001b[38;5;241m+\u001b[39m \u001b[43mfind_first_x_position\u001b[49m\u001b[43m(\u001b[49m\u001b[43minput_string\u001b[49m\u001b[43m[\u001b[49m\u001b[38;5;241;43m1\u001b[39;49m\u001b[43m:\u001b[49m\u001b[43m]\u001b[49m\u001b[43m)\u001b[49m\n",
      "Input \u001b[1;32mIn [20]\u001b[0m, in \u001b[0;36mfind_first_x_position\u001b[1;34m(input_string)\u001b[0m\n\u001b[0;32m      3\u001b[0m \u001b[38;5;28;01mdef\u001b[39;00m \u001b[38;5;21mfind_first_x_position\u001b[39m(input_string):\n\u001b[1;32m----> 4\u001b[0m     \u001b[38;5;28;01mif\u001b[39;00m \u001b[43minput_string\u001b[49m\u001b[43m[\u001b[49m\u001b[38;5;241;43m0\u001b[39;49m\u001b[43m]\u001b[49m \u001b[38;5;241m==\u001b[39m \u001b[38;5;124m'\u001b[39m\u001b[38;5;124mx\u001b[39m\u001b[38;5;124m'\u001b[39m:\n\u001b[0;32m      5\u001b[0m         \u001b[38;5;28;01mreturn\u001b[39;00m \u001b[38;5;241m0\u001b[39m\n\u001b[0;32m      6\u001b[0m     \u001b[38;5;28;01melse\u001b[39;00m:\n",
      "\u001b[1;31mIndexError\u001b[0m: string index out of range"
     ]
    }
   ],
   "source": [
    "# same\n",
    "print(find_first_x_position(\"abc\"))"
   ]
  },
  {
   "cell_type": "code",
   "execution_count": 24,
   "id": "86f0ab0a-6063-4345-8a2a-9049c4cad99b",
   "metadata": {},
   "outputs": [
    {
     "name": "stdout",
     "output_type": "stream",
     "text": [
      "0\n",
      "0\n",
      "3\n",
      "1\n"
     ]
    }
   ],
   "source": [
    "print(find_first_x_position(\"x\"))\n",
    "print(find_first_x_position(\"xabc\"))\n",
    "print(find_first_x_position(\"abcx\"))\n",
    "print(find_first_x_position(\"axbxc\"))"
   ]
  },
  {
   "cell_type": "code",
   "execution_count": 27,
   "id": "714264c4-ba5b-46de-ae82-26e73bcf50ab",
   "metadata": {},
   "outputs": [],
   "source": [
    "# 5. This problem is known as the “Unique Paths” problem: Let’s say you have\n",
    "# a grid of rows and columns. Write a function that accepts a number of rows\n",
    "# and a number of columns, and calculates the number of possible “shortest”\n",
    "# paths from the upper-leftmost square to the lower-rightmost square.\n",
    "\n",
    "# Brute force is clearly not the best approach but for this task it does not matter\n",
    "def count_unique_paths_a(rows, cols):\n",
    "    if rows == 1 or cols == 1:\n",
    "        return 1\n",
    "    else:\n",
    "        return count_unique_paths(rows - 1, cols) + count_unique_paths(rows, cols - 1)\n",
    "\n",
    "def count_unique_paths_b(rows, cols):\n",
    "    if rows == 1 or cols == 1:\n",
    "        return 1\n",
    "    \n",
    "    sum = 0\n",
    "    for r in range(1, rows + 1):\n",
    "        sum += count_unique_paths_b(r, cols - 1)\n",
    "    return sum\n",
    "\n",
    "from math import comb\n",
    "def count_unique_paths_true(rows, cols):\n",
    "    return comb(rows + cols - 2, cols - 1)"
   ]
  },
  {
   "cell_type": "code",
   "execution_count": 28,
   "id": "76f4ca96-575a-4aee-ad2b-9bf8d5684e1c",
   "metadata": {},
   "outputs": [
    {
     "name": "stdout",
     "output_type": "stream",
     "text": [
      "1\n",
      "1\n",
      "1\n",
      "2\n",
      "3\n",
      "3\n",
      "6\n",
      "10\n",
      "10\n",
      "20\n",
      "\n",
      "1\n",
      "1\n",
      "1\n",
      "2\n",
      "3\n",
      "3\n",
      "6\n",
      "10\n",
      "10\n",
      "20\n",
      "\n",
      "1\n",
      "1\n",
      "1\n",
      "2\n",
      "3\n",
      "3\n",
      "6\n",
      "10\n",
      "10\n",
      "20\n"
     ]
    }
   ],
   "source": [
    "print(count_unique_paths_a(1, 1))\n",
    "print(count_unique_paths_a(10, 1))\n",
    "print(count_unique_paths_a(1, 10))\n",
    "print(count_unique_paths_a(2, 2))\n",
    "print(count_unique_paths_a(2, 3))\n",
    "print(count_unique_paths_a(3, 2))\n",
    "print(count_unique_paths_a(3, 3))\n",
    "print(count_unique_paths_a(3, 4))\n",
    "print(count_unique_paths_a(4, 3))\n",
    "print(count_unique_paths_a(4, 4))\n",
    "print()\n",
    "\n",
    "print(count_unique_paths_b(1, 1))\n",
    "print(count_unique_paths_b(10, 1))\n",
    "print(count_unique_paths_b(1, 10))\n",
    "print(count_unique_paths_b(2, 2))\n",
    "print(count_unique_paths_b(2, 3))\n",
    "print(count_unique_paths_b(3, 2))\n",
    "print(count_unique_paths_b(3, 3))\n",
    "print(count_unique_paths_b(3, 4))\n",
    "print(count_unique_paths_b(4, 3))\n",
    "print(count_unique_paths_b(4, 4))\n",
    "print()\n",
    "\n",
    "print(count_unique_paths_true(1, 1))\n",
    "print(count_unique_paths_true(10, 1))\n",
    "print(count_unique_paths_true(1, 10))\n",
    "print(count_unique_paths_true(2, 2))\n",
    "print(count_unique_paths_true(2, 3))\n",
    "print(count_unique_paths_true(3, 2))\n",
    "print(count_unique_paths_true(3, 3))\n",
    "print(count_unique_paths_true(3, 4))\n",
    "print(count_unique_paths_true(4, 3))\n",
    "print(count_unique_paths_true(4, 4))"
   ]
  }
 ],
 "metadata": {
  "kernelspec": {
   "display_name": "Python 3 (ipykernel)",
   "language": "python",
   "name": "python3"
  },
  "language_info": {
   "codemirror_mode": {
    "name": "ipython",
    "version": 3
   },
   "file_extension": ".py",
   "mimetype": "text/x-python",
   "name": "python",
   "nbconvert_exporter": "python",
   "pygments_lexer": "ipython3",
   "version": "3.9.12"
  }
 },
 "nbformat": 4,
 "nbformat_minor": 5
}
