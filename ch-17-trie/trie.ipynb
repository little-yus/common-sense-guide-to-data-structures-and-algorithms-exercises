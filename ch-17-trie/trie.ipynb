{
 "cells": [
  {
   "cell_type": "code",
   "execution_count": 76,
   "id": "672d715c-0ff3-40e0-aef2-57c68a81e7e1",
   "metadata": {},
   "outputs": [],
   "source": [
    "class TrieNode:\n",
    "    def __init__(self):\n",
    "        self.children = {}\n",
    "    \n",
    "    def is_empty(self):\n",
    "        return len(self.children) == 0"
   ]
  },
  {
   "cell_type": "code",
   "execution_count": 103,
   "id": "250a5244-7452-4dcc-ad46-17d172b5817c",
   "metadata": {},
   "outputs": [],
   "source": [
    "class Trie:\n",
    "    def __init__(self):\n",
    "        self.root_node = TrieNode()\n",
    "    \n",
    "    def insert(self, word):\n",
    "        current_node = self.root_node\n",
    "        \n",
    "        for letter in word:\n",
    "            if letter not in current_node.children:\n",
    "                current_node.children[letter] = TrieNode()\n",
    "            current_node = current_node.children[letter]\n",
    "        \n",
    "        current_node.children[\"*\"] = None\n",
    "    \n",
    "    def search(self, word):\n",
    "        current_node = self.root_node\n",
    "        \n",
    "        for letter in word:\n",
    "            if letter in current_node.children:\n",
    "                current_node = current_node.children[letter]\n",
    "            else:\n",
    "                return None\n",
    "        \n",
    "        return current_node\n",
    "    \n",
    "    def collect_all_words(self):\n",
    "        return self.collect_node_words(self.root_node)\n",
    "    \n",
    "    def collect_node_words(self, node, word=\"\", words=None):\n",
    "        if words is None:  \n",
    "            words = []\n",
    "        \n",
    "        for letter in node.children:\n",
    "            if letter == \"*\":\n",
    "                words.append(word)\n",
    "            else:\n",
    "                self.collect_node_words(node.children[letter], word + letter, words)\n",
    "        \n",
    "        return words\n",
    "    \n",
    "    def autocomplete(self, prefix):\n",
    "        found_node = self.search(prefix)\n",
    "        if found_node is None:\n",
    "            return None\n",
    "        \n",
    "        return [prefix + suffix for suffix in self.collect_node_words(found_node)]\n",
    "\n",
    "    def print(self):\n",
    "        self.print_node(self.root_node, \"\")\n",
    "    \n",
    "    def print_node(self, node, filler):\n",
    "        if node is None:\n",
    "            return\n",
    "        \n",
    "        if node.is_empty():\n",
    "            print(\"Empty\")\n",
    "            return\n",
    "        \n",
    "        *all_but_last, last = node.children.keys()\n",
    "        \n",
    "        for letter in all_but_last:\n",
    "            print(filler, end=\"\")\n",
    "            print(f\"|---{letter}\")\n",
    "            self.print_node(node.children[letter], filler=filler + \"|   \")\n",
    "        \n",
    "        print(filler, end=\"\")\n",
    "        print(f\"L---{last}\")\n",
    "        self.print_node(node.children[last], filler=filler + \"    \")\n",
    "    \n",
    "    def traverse_and_print(self):\n",
    "        if self.root_node.is_empty():\n",
    "            print(\"Empty trie\")\n",
    "            return\n",
    "        \n",
    "        self.traverse_and_print_node(self.root_node)\n",
    "    \n",
    "    def traverse_and_print_node(self, node):\n",
    "        if node is None:\n",
    "            return\n",
    "        \n",
    "        for letter in node.children:\n",
    "            print(f\"{letter}, \", end=\"\")\n",
    "            self.traverse_and_print_node(node.children[letter])\n",
    "    \n",
    "    # solution from book\n",
    "    def traverse(self, node=None):\n",
    "        currentNode = node or self.root_node\n",
    "        for key, childNode in currentNode.children.items():\n",
    "            print(key)\n",
    "            if key != \"*\":\n",
    "                self.traverse(childNode)\n",
    "    \n",
    "    def autocorrect(self, word):\n",
    "        current_node = self.root_node\n",
    "        prefix = \"\"\n",
    "        \n",
    "        for letter in word:\n",
    "            if letter in current_node.children:\n",
    "                current_node = current_node.children[letter]\n",
    "                prefix += letter\n",
    "            else:\n",
    "                break\n",
    "        \n",
    "        if prefix == word:\n",
    "            return [word]\n",
    "        \n",
    "        return [prefix + suffix for suffix in self.collect_node_words(current_node)]\n",
    "    \n",
    "    @staticmethod\n",
    "    def from_list(words):\n",
    "        t = Trie()\n",
    "        for word in words:\n",
    "            t.insert(word)\n",
    "        return t\n",
    "            "
   ]
  },
  {
   "cell_type": "code",
   "execution_count": 78,
   "id": "2ce8c49a-f992-4c22-8c0f-56703f6cc665",
   "metadata": {},
   "outputs": [
    {
     "name": "stdout",
     "output_type": "stream",
     "text": [
      "L---c\n",
      "    L---a\n",
      "        |---t\n",
      "        |   L---*\n",
      "        L---n\n",
      "            L---*\n"
     ]
    }
   ],
   "source": [
    "t = Trie()\n",
    "t.insert(\"cat\")\n",
    "t.insert(\"can\")\n",
    "t.print()"
   ]
  },
  {
   "cell_type": "code",
   "execution_count": 79,
   "id": "94801f1d-6c53-4108-b10e-8cb4fc5902b8",
   "metadata": {},
   "outputs": [
    {
     "name": "stdout",
     "output_type": "stream",
     "text": [
      "|---a\n",
      "|   L---c\n",
      "|       |---e\n",
      "|       |   L---*\n",
      "|       L---t\n",
      "|           L---*\n",
      "|---b\n",
      "|   L---a\n",
      "|       |---d\n",
      "|       |   L---*\n",
      "|       |---k\n",
      "|       |   L---e\n",
      "|       |       L---*\n",
      "|       L---t\n",
      "|           |---*\n",
      "|           L---t\n",
      "|               L---e\n",
      "|                   L---r\n",
      "|                       L---*\n",
      "L---c\n",
      "    L---a\n",
      "        |---b\n",
      "        |   L---*\n",
      "        L---t\n",
      "            |---*\n",
      "            L---n\n",
      "                |---a\n",
      "                |   L---p\n",
      "                |       L---*\n",
      "                L---i\n",
      "                    L---p\n",
      "                        L---*\n"
     ]
    },
    {
     "data": {
      "text/plain": [
       "['ace',\n",
       " 'act',\n",
       " 'bad',\n",
       " 'bake',\n",
       " 'bat',\n",
       " 'batter',\n",
       " 'cab',\n",
       " 'cat',\n",
       " 'catnap',\n",
       " 'catnip']"
      ]
     },
     "execution_count": 79,
     "metadata": {},
     "output_type": "execute_result"
    }
   ],
   "source": [
    "t = Trie.from_list([\"ace\", \"act\", \"bad\", \"bake\", \"bat\", \"batter\", \"cab\", \"cat\", \"catnap\", \"catnip\"])\n",
    "t.print()\n",
    "t.collect_all_words()"
   ]
  },
  {
   "cell_type": "code",
   "execution_count": 80,
   "id": "9fc5bdee-b1fd-4c7b-bafc-ec75a9d7dc55",
   "metadata": {},
   "outputs": [
    {
     "data": {
      "text/plain": [
       "['', 'nap', 'nip']"
      ]
     },
     "execution_count": 80,
     "metadata": {},
     "output_type": "execute_result"
    }
   ],
   "source": [
    "t.collect_node_words(t.search(\"cat\"))"
   ]
  },
  {
   "cell_type": "code",
   "execution_count": 81,
   "id": "66e8eaf1-0079-4b70-adb4-09f65b8595ef",
   "metadata": {},
   "outputs": [
    {
     "data": {
      "text/plain": [
       "['cat', 'catnap', 'catnip']"
      ]
     },
     "execution_count": 81,
     "metadata": {},
     "output_type": "execute_result"
    }
   ],
   "source": [
    "t.autocomplete(\"cat\")"
   ]
  },
  {
   "cell_type": "code",
   "execution_count": 82,
   "id": "17f93f5b-603c-46ae-b4f7-d49d0f793e46",
   "metadata": {},
   "outputs": [
    {
     "name": "stdout",
     "output_type": "stream",
     "text": [
      "|---t\n",
      "|   |---a\n",
      "|   |   |---g\n",
      "|   |   |   L---*\n",
      "|   |   |---n\n",
      "|   |   |   |---*\n",
      "|   |   |   L---k\n",
      "|   |   |       L---*\n",
      "|   |   L---p\n",
      "|   |       L---*\n",
      "|   L---o\n",
      "|       |---d\n",
      "|       |   L---a\n",
      "|       |       L---y\n",
      "|       |           L---*\n",
      "|       L---t\n",
      "|           L---a\n",
      "|               L---l\n",
      "|                   L---*\n",
      "L---w\n",
      "    L---e\n",
      "        |---*\n",
      "        |---l\n",
      "        |   L---l\n",
      "        |       L---*\n",
      "        L---n\n",
      "            L---t\n",
      "                L---*\n"
     ]
    },
    {
     "data": {
      "text/plain": [
       "['tag', 'tan', 'tank', 'tap', 'today', 'total', 'we', 'well', 'went']"
      ]
     },
     "execution_count": 82,
     "metadata": {},
     "output_type": "execute_result"
    }
   ],
   "source": [
    "# 1. List all the words stored in the following trie\n",
    "t = Trie.from_list([\"tag\", \"tan\", \"tank\", \"tap\", \"today\", \"total\", \"we\", \"well\", \"went\"])\n",
    "t.print()\n",
    "t.collect_all_words()"
   ]
  },
  {
   "cell_type": "code",
   "execution_count": 100,
   "id": "4071d66b-4eac-4b2e-9398-e715c7ffc4e4",
   "metadata": {},
   "outputs": [
    {
     "name": "stdout",
     "output_type": "stream",
     "text": [
      "|---g\n",
      "|   |---e\n",
      "|   |   L---t\n",
      "|   |       L---*\n",
      "|   L---o\n",
      "|       |---*\n",
      "|       L---t\n",
      "|           |---*\n",
      "|           L---t\n",
      "|               L---e\n",
      "|                   L---n\n",
      "|                       L---*\n",
      "|---h\n",
      "|   |---a\n",
      "|   |   |---l\n",
      "|   |   |   L---l\n",
      "|   |   |       L---*\n",
      "|   |   L---m\n",
      "|   |       |---*\n",
      "|   |       L---m\n",
      "|   |           L---e\n",
      "|   |               L---r\n",
      "|   |                   L---*\n",
      "|   L---i\n",
      "|       L---l\n",
      "|           L---l\n",
      "|               L---*\n",
      "L---z\n",
      "    L---e\n",
      "        L---b\n",
      "            L---r\n",
      "                L---a\n",
      "                    L---*\n"
     ]
    }
   ],
   "source": [
    "# 2. Draw a trie that stores the following words: “get,” “go,” “got,” “gotten,”\n",
    "# “hall,” “ham,” “hammer,” “hill,” and “zebra.”\n",
    "t = Trie.from_list([\"get\", \"go\", \"got\", \"gotten\", \"hall\", \"ham\", \"hammer\", \"hill\", \"zebra\"])\n",
    "t.print()"
   ]
  },
  {
   "cell_type": "code",
   "execution_count": 101,
   "id": "b7a5ffb3-54d4-4e9b-8541-a0fd4ee83ca2",
   "metadata": {},
   "outputs": [
    {
     "name": "stdout",
     "output_type": "stream",
     "text": [
      "g, e, t, *, o, *, t, *, t, e, n, *, h, a, l, l, *, m, *, m, e, r, *, i, l, l, *, z, e, b, r, a, *, "
     ]
    }
   ],
   "source": [
    "# 3. Write a function that traverses each node of a trie and prints each key,\n",
    "# including all \"*\" keys.\n",
    "t.traverse_and_print()"
   ]
  },
  {
   "cell_type": "code",
   "execution_count": 102,
   "id": "2ed79ab6-ce23-4ed0-815a-45623f717401",
   "metadata": {},
   "outputs": [
    {
     "name": "stdout",
     "output_type": "stream",
     "text": [
      "g\n",
      "e\n",
      "t\n",
      "*\n",
      "o\n",
      "*\n",
      "t\n",
      "*\n",
      "t\n",
      "e\n",
      "n\n",
      "*\n",
      "h\n",
      "a\n",
      "l\n",
      "l\n",
      "*\n",
      "m\n",
      "*\n",
      "m\n",
      "e\n",
      "r\n",
      "*\n",
      "i\n",
      "l\n",
      "l\n",
      "*\n",
      "z\n",
      "e\n",
      "b\n",
      "r\n",
      "a\n",
      "*\n"
     ]
    }
   ],
   "source": [
    "t.traverse()"
   ]
  },
  {
   "cell_type": "code",
   "execution_count": 92,
   "id": "be41c81d-7c8a-40f9-adf4-5c13965d7780",
   "metadata": {},
   "outputs": [
    {
     "name": "stdout",
     "output_type": "stream",
     "text": [
      "['catnap']\n",
      "['cat', 'catnap', 'catnip']\n",
      "['cat']\n"
     ]
    }
   ],
   "source": [
    "# 4. Write an autocorrect function that attempts to replace a user’s typo with\n",
    "# a correct word. The function should accept a string that represents text\n",
    "# a user typed in. If the user’s string is not in the trie, the function should\n",
    "# return an alternative word that shares the longest possible prefix with\n",
    "# the user’s string.\n",
    "t = Trie.from_list([\"cat\", \"catnap\", \"catnip\"])\n",
    "print(t.autocorrect(\"catnar\")) # [\"catnap\"]\n",
    "print(t.autocorrect(\"caxasfdij\")) # could return any of the words \"cat\", \"catnap\" and \"catnip\"\n",
    "# If the user’s string is found in the trie, the function should just return the word itself.\n",
    "print(t.autocorrect(\"cat\")) # [\"cat\"]"
   ]
  },
  {
   "cell_type": "code",
   "execution_count": 108,
   "id": "b4ad5a74-55ae-44c9-9781-b090dfa3124f",
   "metadata": {},
   "outputs": [
    {
     "name": "stdout",
     "output_type": "stream",
     "text": [
      "L---c\n",
      "    L---a\n",
      "        L---t\n",
      "            L---n\n",
      "                |---a\n",
      "                |   L---p\n",
      "                |       L---*\n",
      "                L---i\n",
      "                    L---p\n",
      "                        L---*\n",
      "['cat']\n"
     ]
    }
   ],
   "source": [
    "# If the user’s string is found in the trie, the function should just return\n",
    "# the word itself. This should be true even if the user’s text is not a complete\n",
    "# word, as we’re only trying to correct typos, not suggest endings to the\n",
    "# user’s prefix.\n",
    "t = Trie.from_list([\"catnap\", \"catnip\"])\n",
    "t.print()\n",
    "print(t.autocorrect(\"cat\"))"
   ]
  }
 ],
 "metadata": {
  "kernelspec": {
   "display_name": "Python 3 (ipykernel)",
   "language": "python",
   "name": "python3"
  },
  "language_info": {
   "codemirror_mode": {
    "name": "ipython",
    "version": 3
   },
   "file_extension": ".py",
   "mimetype": "text/x-python",
   "name": "python",
   "nbconvert_exporter": "python",
   "pygments_lexer": "ipython3",
   "version": "3.9.18"
  }
 },
 "nbformat": 4,
 "nbformat_minor": 5
}
