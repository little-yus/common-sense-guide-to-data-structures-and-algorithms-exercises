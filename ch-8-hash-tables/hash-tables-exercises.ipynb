{
 "cells": [
  {
   "cell_type": "markdown",
   "id": "e9779aa0-9c62-43b7-8030-e98994c61292",
   "metadata": {},
   "source": [
    "Tasks suggested in the book feel more like usages of set data structure, but who am i to question authors methods."
   ]
  },
  {
   "cell_type": "code",
   "execution_count": 17,
   "id": "9e024de9-033a-4158-ab6e-981fe24761e2",
   "metadata": {},
   "outputs": [],
   "source": [
    "# 1. Write a function that returns the intersection of two arrays.\n",
    "def array_intersection(a, b):\n",
    "    index = {}\n",
    "    smaller_array = a\n",
    "    larger_array = b\n",
    "    \n",
    "    if len(a) > len(b):\n",
    "        smaller_array = b\n",
    "        larger_array = a\n",
    "    \n",
    "    for x in larger_array:\n",
    "        index[x] = True\n",
    "    \n",
    "    intersection_array = []\n",
    "    \n",
    "    for x in smaller_array:\n",
    "        if x in index:\n",
    "            intersection_array.append(x)\n",
    "    \n",
    "    return intersection_array"
   ]
  },
  {
   "cell_type": "code",
   "execution_count": 12,
   "id": "dafd39c5-6ba4-4e80-ad97-67cfcd049adf",
   "metadata": {},
   "outputs": [
    {
     "name": "stdout",
     "output_type": "stream",
     "text": [
      "[2, 3, 4]\n",
      "[2, 3, 4]\n",
      "[2, 3, 4]\n",
      "[2, 3, 4]\n",
      "[]\n",
      "[1, 2, 3]\n"
     ]
    }
   ],
   "source": [
    "print(array_intersection([1, 2, 3, 4], [2, 3, 4, 5]))\n",
    "print(array_intersection([2, 3, 4, 5], [1, 2, 3, 4]))\n",
    "print(array_intersection([1, 2, 3, 4, 5], [2, 3, 4]))\n",
    "print(array_intersection([2, 3, 4], [1, 2, 3, 4, 5]))\n",
    "print(array_intersection([1, 2, 3], []))\n",
    "print(array_intersection([1, 2, 3], [1, 2, 3]))"
   ]
  },
  {
   "cell_type": "code",
   "execution_count": 18,
   "id": "a1baf337-437b-4831-83c1-9aae44c350b1",
   "metadata": {},
   "outputs": [],
   "source": [
    "# 2. Write a function that accepts an array of strings and returns the first duplicate value it finds.\n",
    "def find_first_duplicate(array):\n",
    "    already_encountered_values = {}\n",
    "    \n",
    "    for x in array:\n",
    "        if x in already_encountered_values:\n",
    "            return x\n",
    "        else:\n",
    "            already_encountered_values[x] = True\n",
    "    \n",
    "    return None"
   ]
  },
  {
   "cell_type": "code",
   "execution_count": 14,
   "id": "ad12a5b5-890a-484e-b6d8-b3890fe0bd47",
   "metadata": {},
   "outputs": [
    {
     "name": "stdout",
     "output_type": "stream",
     "text": [
      "2\n"
     ]
    }
   ],
   "source": [
    "print(find_first_duplicate([1, 2, 3, 2, 3]))"
   ]
  },
  {
   "cell_type": "code",
   "execution_count": 19,
   "id": "9b05d116-6280-46ff-8156-df5728735a51",
   "metadata": {},
   "outputs": [],
   "source": [
    "import string\n",
    "\n",
    "# 3. Write a function that accepts a string that contains all the letters of the alphabet except one and returns the missing letter.\n",
    "def find_missing_letter(letters):\n",
    "    letters_found = {}\n",
    "    \n",
    "    for letter in letters:\n",
    "        letters_found[letter] = True\n",
    "    \n",
    "    for letter in string.ascii_lowercase:\n",
    "        if letter not in letters_found:\n",
    "            return letter\n",
    "    \n",
    "    return None"
   ]
  },
  {
   "cell_type": "code",
   "execution_count": 16,
   "id": "c5467b16-9ae9-4bb2-b853-1202f7e28fe2",
   "metadata": {},
   "outputs": [
    {
     "name": "stdout",
     "output_type": "stream",
     "text": [
      "f\n"
     ]
    }
   ],
   "source": [
    "print(find_missing_letter(\"the quick brown box jumps over a lazy dog\"))"
   ]
  },
  {
   "cell_type": "code",
   "execution_count": 26,
   "id": "22185a5a-dbea-43ab-ad4c-bcd33e840dfc",
   "metadata": {},
   "outputs": [],
   "source": [
    "# 4. Write a function that returns the first non-duplicated character in a string.\n",
    "def find_first_nonduplicate(input_string):\n",
    "    character_counts = {}\n",
    "    \n",
    "    for c in input_string:\n",
    "        if c in character_counts:\n",
    "            character_counts[c] += 1\n",
    "        else:\n",
    "            character_counts[c] = 1\n",
    "    \n",
    "    for c in input_string:\n",
    "        if character_counts[c] == 1:\n",
    "            return c\n",
    "    \n",
    "    return None"
   ]
  },
  {
   "cell_type": "code",
   "execution_count": 27,
   "id": "b662227b-d7b7-4c7e-ab23-ae471b42689b",
   "metadata": {},
   "outputs": [
    {
     "name": "stdout",
     "output_type": "stream",
     "text": [
      "a\n",
      "c\n",
      "None\n",
      "n\n"
     ]
    }
   ],
   "source": [
    "print(find_first_nonduplicate(\"abcd\"))\n",
    "print(find_first_nonduplicate(\"abcab\"))\n",
    "print(find_first_nonduplicate(\"abcabc\"))\n",
    "print(find_first_nonduplicate(\"minimum\"))"
   ]
  }
 ],
 "metadata": {
  "kernelspec": {
   "display_name": "Python 3 (ipykernel)",
   "language": "python",
   "name": "python3"
  },
  "language_info": {
   "codemirror_mode": {
    "name": "ipython",
    "version": 3
   },
   "file_extension": ".py",
   "mimetype": "text/x-python",
   "name": "python",
   "nbconvert_exporter": "python",
   "pygments_lexer": "ipython3",
   "version": "3.9.12"
  }
 },
 "nbformat": 4,
 "nbformat_minor": 5
}
