{
 "cells": [
  {
   "cell_type": "code",
   "execution_count": 6,
   "id": "500309db-b093-4285-8d17-d296e5dad8d8",
   "metadata": {},
   "outputs": [],
   "source": [
    "class City:\n",
    "    def __init__(self, name):\n",
    "        self.name = name\n",
    "        self.routes = {}\n",
    "    \n",
    "    def add_route(self, city, price):\n",
    "        self.routes[city] = price"
   ]
  },
  {
   "cell_type": "code",
   "execution_count": 62,
   "id": "4bd425dc-9ef3-48ff-86ec-02631de0b36e",
   "metadata": {},
   "outputs": [],
   "source": [
    "def dijkstra_shortest_path(starting_city, final_destination):\n",
    "    visited_cities = {}\n",
    "    to_visit = []\n",
    "    \n",
    "    cheapest_prices_table = {}\n",
    "    cheapest_previous_stopover_city_table = {}\n",
    "    \n",
    "    cheapest_prices_table[starting_city.name] = 0\n",
    "    to_visit.append(starting_city)\n",
    "    \n",
    "    while len(to_visit) > 0:\n",
    "        print([city.name for city in to_visit])\n",
    "        current_city = min(to_visit, key=lambda x: 0 if cheapest_prices_table.get(x.name) is None else cheapest_prices_table.get(x.name))\n",
    "        to_visit = list(filter(lambda x: x.name != current_city.name, to_visit))\n",
    "        \n",
    "        if current_city.name not in visited_cities:\n",
    "            current_city_price = cheapest_prices_table[current_city.name]\n",
    "            \n",
    "            for neighbor in current_city.routes:\n",
    "                if neighbor.name not in cheapest_prices_table or current_city.routes[neighbor] + current_city_price < cheapest_prices_table[neighbor.name]:\n",
    "                    cheapest_prices_table[neighbor.name] = current_city.routes[neighbor] + current_city_price\n",
    "                    cheapest_previous_stopover_city_table[neighbor.name] = current_city\n",
    "                    \n",
    "                to_visit.append(neighbor)\n",
    "            visited_cities[current_city.name] = True\n",
    "    \n",
    "    # Build shortest path\n",
    "    shortest_path = []\n",
    "    current_city = final_destination.name\n",
    "    \n",
    "    while current_city != starting_city.name:\n",
    "        shortest_path.append(current_city)\n",
    "        current_city = cheapest_previous_stopover_city_table[current_city].name\n",
    "    \n",
    "    shortest_path.append(starting_city.name)\n",
    "    \n",
    "    return shortest_path[::-1]"
   ]
  },
  {
   "cell_type": "code",
   "execution_count": 10,
   "id": "0ff3f48f-a59f-4e20-a20f-7a00d7ce78ec",
   "metadata": {},
   "outputs": [],
   "source": [
    "atlanta = City(\"Atlanta\")\n",
    "boston = City(\"Boston\")\n",
    "chicago = City(\"Chicago\")\n",
    "denver = City(\"Denver\")\n",
    "el_paso = City(\"El Paso\")\n",
    "atlanta.add_route(boston, 100)\n",
    "atlanta.add_route(denver, 160)\n",
    "boston.add_route(chicago, 120)\n",
    "boston.add_route(denver, 180)\n",
    "chicago.add_route(el_paso, 80)\n",
    "denver.add_route(chicago, 40)\n",
    "denver.add_route(el_paso, 140)"
   ]
  },
  {
   "cell_type": "code",
   "execution_count": 64,
   "id": "1a43d3e7-66a6-4d3d-8a37-a4a98d0e1933",
   "metadata": {},
   "outputs": [
    {
     "name": "stdout",
     "output_type": "stream",
     "text": [
      "['Atlanta']\n",
      "['Boston', 'Denver']\n",
      "['Denver', 'Chicago', 'Denver']\n",
      "['Chicago', 'Chicago', 'El Paso']\n",
      "['El Paso', 'El Paso']\n",
      "Shortest path: ['Atlanta', 'Denver', 'Chicago', 'El Paso']\n"
     ]
    }
   ],
   "source": [
    "print(f\"Shortest path: {dijkstra_shortest_path(atlanta, el_paso)}\")"
   ]
  },
  {
   "cell_type": "code",
   "execution_count": null,
   "id": "9c642a1a-ea8e-4330-803c-88c8190c0cd2",
   "metadata": {},
   "outputs": [],
   "source": []
  }
 ],
 "metadata": {
  "kernelspec": {
   "display_name": "Python 3 (ipykernel)",
   "language": "python",
   "name": "python3"
  },
  "language_info": {
   "codemirror_mode": {
    "name": "ipython",
    "version": 3
   },
   "file_extension": ".py",
   "mimetype": "text/x-python",
   "name": "python",
   "nbconvert_exporter": "python",
   "pygments_lexer": "ipython3",
   "version": "3.9.12"
  }
 },
 "nbformat": 4,
 "nbformat_minor": 5
}
