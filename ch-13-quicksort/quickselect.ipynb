{
 "cells": [
  {
   "cell_type": "code",
   "execution_count": 1,
   "id": "1b6e44f5-0238-4ca0-9820-0bf77cc20149",
   "metadata": {},
   "outputs": [],
   "source": [
    "import numpy as np\n",
    "import pandas as pd\n",
    "import matplotlib.pyplot as plt\n",
    "import seaborn as sns\n",
    "from timeit import default_timer as timer"
   ]
  },
  {
   "cell_type": "code",
   "execution_count": 2,
   "id": "bbcba284-7a85-4945-8a10-0579f3acdf8b",
   "metadata": {},
   "outputs": [],
   "source": [
    "def partition(arr, start, end):\n",
    "    # select last element as a pivot (from the book)\n",
    "    pivot_index = end\n",
    "    pivot_value = arr[end]\n",
    "    \n",
    "    left = start\n",
    "    right = end - 1\n",
    "    \n",
    "    while True:\n",
    "        while left < end and arr[left] < pivot_value:\n",
    "            left += 1\n",
    "        \n",
    "        while right > start and arr[right] > pivot_value:\n",
    "            right -= 1\n",
    "        \n",
    "        if left >= right:\n",
    "            arr[left], arr[pivot_index] = arr[pivot_index], arr[left]\n",
    "            return left\n",
    "        else:\n",
    "            arr[left], arr[right] = arr[right], arr[left]\n",
    "        \n",
    "        left += 1\n",
    "        right -= 1\n",
    "    \n",
    "    raise Exception(\"Unreachable\")\n",
    "\n",
    "def quickselect_implementation(arr, start, end, k):\n",
    "    pivot_index = partition(arr, start, end)\n",
    "    \n",
    "    if pivot_index == k:\n",
    "        return pivot_index\n",
    "    if k < pivot_index:\n",
    "        return quickselect_implementation(arr, start, pivot_index - 1, k)\n",
    "    if k > pivot_index:\n",
    "        return quickselect_implementation(arr, pivot_index + 1, end, k)\n",
    "\n",
    "def quickselect(arr, k):\n",
    "    if k not in range(0, len(arr)):\n",
    "        raise Exception(\"k should represent valid position inside of array\")\n",
    "    \n",
    "    pivot_index = quickselect_implementation(arr, 0, len(arr) - 1, k)\n",
    "    \n",
    "    return arr[pivot_index]"
   ]
  },
  {
   "cell_type": "code",
   "execution_count": 3,
   "id": "228c05a3-e67d-4eb3-a51d-da1b5253ea52",
   "metadata": {},
   "outputs": [
    {
     "name": "stdout",
     "output_type": "stream",
     "text": [
      "1\n",
      "1\n",
      "2\n",
      "1\n",
      "2\n",
      "3\n",
      "1\n",
      "2\n",
      "3\n",
      "4\n"
     ]
    }
   ],
   "source": [
    "print(quickselect([1], 0))\n",
    "\n",
    "print(quickselect([1, 2], 0))\n",
    "print(quickselect([1, 2], 1))\n",
    "\n",
    "print(quickselect([1, 2, 3], 0))\n",
    "print(quickselect([1, 2, 3], 1))\n",
    "print(quickselect([1, 2, 3], 2))\n",
    "\n",
    "print(quickselect([1, 2, 3, 4], 0))\n",
    "print(quickselect([1, 2, 3, 4], 1))\n",
    "print(quickselect([1, 2, 3, 4], 2))\n",
    "print(quickselect([1, 2, 3, 4], 3))"
   ]
  },
  {
   "cell_type": "code",
   "execution_count": 4,
   "id": "062973e0-94e4-4641-a9f3-f9d7b5ba98ca",
   "metadata": {},
   "outputs": [
    {
     "ename": "Exception",
     "evalue": "k should represent valid position inside of array",
     "output_type": "error",
     "traceback": [
      "\u001b[1;31m---------------------------------------------------------------------------\u001b[0m",
      "\u001b[1;31mException\u001b[0m                                 Traceback (most recent call last)",
      "Input \u001b[1;32mIn [4]\u001b[0m, in \u001b[0;36m<cell line: 1>\u001b[1;34m()\u001b[0m\n\u001b[1;32m----> 1\u001b[0m \u001b[43mquickselect\u001b[49m\u001b[43m(\u001b[49m\u001b[43m[\u001b[49m\u001b[43m]\u001b[49m\u001b[43m,\u001b[49m\u001b[43m \u001b[49m\u001b[38;5;241;43m0\u001b[39;49m\u001b[43m)\u001b[49m\n",
      "Input \u001b[1;32mIn [2]\u001b[0m, in \u001b[0;36mquickselect\u001b[1;34m(arr, k)\u001b[0m\n\u001b[0;32m     37\u001b[0m \u001b[38;5;28;01mdef\u001b[39;00m \u001b[38;5;21mquickselect\u001b[39m(arr, k):\n\u001b[0;32m     38\u001b[0m     \u001b[38;5;28;01mif\u001b[39;00m k \u001b[38;5;129;01mnot\u001b[39;00m \u001b[38;5;129;01min\u001b[39;00m \u001b[38;5;28mrange\u001b[39m(\u001b[38;5;241m0\u001b[39m, \u001b[38;5;28mlen\u001b[39m(arr)):\n\u001b[1;32m---> 39\u001b[0m         \u001b[38;5;28;01mraise\u001b[39;00m \u001b[38;5;167;01mException\u001b[39;00m(\u001b[38;5;124m\"\u001b[39m\u001b[38;5;124mk should represent valid position inside of array\u001b[39m\u001b[38;5;124m\"\u001b[39m)\n\u001b[0;32m     41\u001b[0m     pivot_index \u001b[38;5;241m=\u001b[39m quickselect_implementation(arr, \u001b[38;5;241m0\u001b[39m, \u001b[38;5;28mlen\u001b[39m(arr) \u001b[38;5;241m-\u001b[39m \u001b[38;5;241m1\u001b[39m, k)\n\u001b[0;32m     43\u001b[0m     \u001b[38;5;28;01mreturn\u001b[39;00m arr[pivot_index]\n",
      "\u001b[1;31mException\u001b[0m: k should represent valid position inside of array"
     ]
    }
   ],
   "source": [
    "quickselect([], 0)"
   ]
  },
  {
   "cell_type": "code",
   "execution_count": 5,
   "id": "fd506e2b-5a1f-4bac-85c7-099de67910d4",
   "metadata": {},
   "outputs": [
    {
     "ename": "Exception",
     "evalue": "k should represent valid position inside of array",
     "output_type": "error",
     "traceback": [
      "\u001b[1;31m---------------------------------------------------------------------------\u001b[0m",
      "\u001b[1;31mException\u001b[0m                                 Traceback (most recent call last)",
      "Input \u001b[1;32mIn [5]\u001b[0m, in \u001b[0;36m<cell line: 1>\u001b[1;34m()\u001b[0m\n\u001b[1;32m----> 1\u001b[0m \u001b[43mquickselect\u001b[49m\u001b[43m(\u001b[49m\u001b[43m[\u001b[49m\u001b[38;5;241;43m1\u001b[39;49m\u001b[43m,\u001b[49m\u001b[43m \u001b[49m\u001b[38;5;241;43m2\u001b[39;49m\u001b[43m,\u001b[49m\u001b[43m \u001b[49m\u001b[38;5;241;43m3\u001b[39;49m\u001b[43m]\u001b[49m\u001b[43m,\u001b[49m\u001b[43m \u001b[49m\u001b[38;5;241;43m4\u001b[39;49m\u001b[43m)\u001b[49m\n",
      "Input \u001b[1;32mIn [2]\u001b[0m, in \u001b[0;36mquickselect\u001b[1;34m(arr, k)\u001b[0m\n\u001b[0;32m     37\u001b[0m \u001b[38;5;28;01mdef\u001b[39;00m \u001b[38;5;21mquickselect\u001b[39m(arr, k):\n\u001b[0;32m     38\u001b[0m     \u001b[38;5;28;01mif\u001b[39;00m k \u001b[38;5;129;01mnot\u001b[39;00m \u001b[38;5;129;01min\u001b[39;00m \u001b[38;5;28mrange\u001b[39m(\u001b[38;5;241m0\u001b[39m, \u001b[38;5;28mlen\u001b[39m(arr)):\n\u001b[1;32m---> 39\u001b[0m         \u001b[38;5;28;01mraise\u001b[39;00m \u001b[38;5;167;01mException\u001b[39;00m(\u001b[38;5;124m\"\u001b[39m\u001b[38;5;124mk should represent valid position inside of array\u001b[39m\u001b[38;5;124m\"\u001b[39m)\n\u001b[0;32m     41\u001b[0m     pivot_index \u001b[38;5;241m=\u001b[39m quickselect_implementation(arr, \u001b[38;5;241m0\u001b[39m, \u001b[38;5;28mlen\u001b[39m(arr) \u001b[38;5;241m-\u001b[39m \u001b[38;5;241m1\u001b[39m, k)\n\u001b[0;32m     43\u001b[0m     \u001b[38;5;28;01mreturn\u001b[39;00m arr[pivot_index]\n",
      "\u001b[1;31mException\u001b[0m: k should represent valid position inside of array"
     ]
    }
   ],
   "source": [
    "quickselect([1, 2, 3], 4)"
   ]
  },
  {
   "cell_type": "code",
   "execution_count": 7,
   "id": "32006bd2-29e1-4850-8be8-200bb20f33aa",
   "metadata": {},
   "outputs": [
    {
     "data": {
      "text/html": [
       "<div>\n",
       "<style scoped>\n",
       "    .dataframe tbody tr th:only-of-type {\n",
       "        vertical-align: middle;\n",
       "    }\n",
       "\n",
       "    .dataframe tbody tr th {\n",
       "        vertical-align: top;\n",
       "    }\n",
       "\n",
       "    .dataframe thead th {\n",
       "        text-align: right;\n",
       "    }\n",
       "</style>\n",
       "<table border=\"1\" class=\"dataframe\">\n",
       "  <thead>\n",
       "    <tr style=\"text-align: right;\">\n",
       "      <th></th>\n",
       "      <th>array_size</th>\n",
       "      <th>time</th>\n",
       "    </tr>\n",
       "  </thead>\n",
       "  <tbody>\n",
       "    <tr>\n",
       "      <th>0</th>\n",
       "      <td>1</td>\n",
       "      <td>0.000165</td>\n",
       "    </tr>\n",
       "    <tr>\n",
       "      <th>1</th>\n",
       "      <td>1</td>\n",
       "      <td>0.000010</td>\n",
       "    </tr>\n",
       "    <tr>\n",
       "      <th>2</th>\n",
       "      <td>1</td>\n",
       "      <td>0.000009</td>\n",
       "    </tr>\n",
       "    <tr>\n",
       "      <th>3</th>\n",
       "      <td>1</td>\n",
       "      <td>0.000009</td>\n",
       "    </tr>\n",
       "    <tr>\n",
       "      <th>4</th>\n",
       "      <td>1</td>\n",
       "      <td>0.000019</td>\n",
       "    </tr>\n",
       "    <tr>\n",
       "      <th>...</th>\n",
       "      <td>...</td>\n",
       "      <td>...</td>\n",
       "    </tr>\n",
       "    <tr>\n",
       "      <th>99895</th>\n",
       "      <td>999</td>\n",
       "      <td>0.122795</td>\n",
       "    </tr>\n",
       "    <tr>\n",
       "      <th>99896</th>\n",
       "      <td>999</td>\n",
       "      <td>0.080270</td>\n",
       "    </tr>\n",
       "    <tr>\n",
       "      <th>99897</th>\n",
       "      <td>999</td>\n",
       "      <td>0.055479</td>\n",
       "    </tr>\n",
       "    <tr>\n",
       "      <th>99898</th>\n",
       "      <td>999</td>\n",
       "      <td>0.090079</td>\n",
       "    </tr>\n",
       "    <tr>\n",
       "      <th>99899</th>\n",
       "      <td>999</td>\n",
       "      <td>0.050958</td>\n",
       "    </tr>\n",
       "  </tbody>\n",
       "</table>\n",
       "<p>99900 rows × 2 columns</p>\n",
       "</div>"
      ],
      "text/plain": [
       "       array_size      time\n",
       "0               1  0.000165\n",
       "1               1  0.000010\n",
       "2               1  0.000009\n",
       "3               1  0.000009\n",
       "4               1  0.000019\n",
       "...           ...       ...\n",
       "99895         999  0.122795\n",
       "99896         999  0.080270\n",
       "99897         999  0.055479\n",
       "99898         999  0.090079\n",
       "99899         999  0.050958\n",
       "\n",
       "[99900 rows x 2 columns]"
      ]
     },
     "execution_count": 7,
     "metadata": {},
     "output_type": "execute_result"
    }
   ],
   "source": [
    "df = pd.DataFrame(columns=(\"array_size\", \"time\"));\n",
    "\n",
    "# be careful with size, because time complexity is quadratic\n",
    "sizes = np.arange(1, 1000)\n",
    "# 100 takes around half an hour\n",
    "number_of_trials = 100\n",
    "\n",
    "for array_size in sizes:\n",
    "    arr = np.arange(array_size)\n",
    "    rng = np.random.default_rng()\n",
    "    rng.shuffle(arr)\n",
    "    \n",
    "    for i in range(number_of_trials):\n",
    "        position = rng.integers(0, array_size)\n",
    "        \n",
    "        start = timer()\n",
    "        sorted_arr = quickselect(arr, position)\n",
    "        end = timer()\n",
    "        delta = end - start\n",
    "        \n",
    "        new_row = {\n",
    "            \"array_size\": array_size,\n",
    "            \"time\": delta\n",
    "        }\n",
    "        \n",
    "        df.loc[len(df)] = new_row\n",
    "\n",
    "df"
   ]
  },
  {
   "cell_type": "code",
   "execution_count": 8,
   "id": "49f41bff-5616-4397-9d87-f9a8a9bf5fea",
   "metadata": {},
   "outputs": [
    {
     "data": {
      "text/plain": [
       "<AxesSubplot:xlabel='array_size', ylabel='time'>"
      ]
     },
     "execution_count": 8,
     "metadata": {},
     "output_type": "execute_result"
    },
    {
     "data": {
      "image/png": "[encoded data removed]",
      "text/plain": [
       "<Figure size 432x288 with 1 Axes>"
      ]
     },
     "metadata": {
      "needs_background": "light"
     },
     "output_type": "display_data"
    }
   ],
   "source": [
    "df_sample = df.sample(5000)\n",
    "sns.scatterplot(data=df_sample, x=\"array_size\", y=\"time\")"
   ]
  },
  {
   "cell_type": "code",
   "execution_count": 9,
   "id": "e71a3a67-0261-4c7f-88fb-257300ae7ed7",
   "metadata": {},
   "outputs": [
    {
     "data": {
      "text/html": [
       "<div>\n",
       "<style scoped>\n",
       "    .dataframe tbody tr th:only-of-type {\n",
       "        vertical-align: middle;\n",
       "    }\n",
       "\n",
       "    .dataframe tbody tr th {\n",
       "        vertical-align: top;\n",
       "    }\n",
       "\n",
       "    .dataframe thead th {\n",
       "        text-align: right;\n",
       "    }\n",
       "</style>\n",
       "<table border=\"1\" class=\"dataframe\">\n",
       "  <thead>\n",
       "    <tr style=\"text-align: right;\">\n",
       "      <th></th>\n",
       "      <th>array_size</th>\n",
       "      <th>mean_time</th>\n",
       "    </tr>\n",
       "  </thead>\n",
       "  <tbody>\n",
       "    <tr>\n",
       "      <th>0</th>\n",
       "      <td>1</td>\n",
       "      <td>0.000017</td>\n",
       "    </tr>\n",
       "    <tr>\n",
       "      <th>1</th>\n",
       "      <td>2</td>\n",
       "      <td>0.000012</td>\n",
       "    </tr>\n",
       "    <tr>\n",
       "      <th>2</th>\n",
       "      <td>3</td>\n",
       "      <td>0.000014</td>\n",
       "    </tr>\n",
       "    <tr>\n",
       "      <th>3</th>\n",
       "      <td>4</td>\n",
       "      <td>0.000016</td>\n",
       "    </tr>\n",
       "    <tr>\n",
       "      <th>4</th>\n",
       "      <td>5</td>\n",
       "      <td>0.000018</td>\n",
       "    </tr>\n",
       "    <tr>\n",
       "      <th>...</th>\n",
       "      <td>...</td>\n",
       "      <td>...</td>\n",
       "    </tr>\n",
       "    <tr>\n",
       "      <th>994</th>\n",
       "      <td>995</td>\n",
       "      <td>0.076488</td>\n",
       "    </tr>\n",
       "    <tr>\n",
       "      <th>995</th>\n",
       "      <td>996</td>\n",
       "      <td>0.086107</td>\n",
       "    </tr>\n",
       "    <tr>\n",
       "      <th>996</th>\n",
       "      <td>997</td>\n",
       "      <td>0.078660</td>\n",
       "    </tr>\n",
       "    <tr>\n",
       "      <th>997</th>\n",
       "      <td>998</td>\n",
       "      <td>0.090753</td>\n",
       "    </tr>\n",
       "    <tr>\n",
       "      <th>998</th>\n",
       "      <td>999</td>\n",
       "      <td>0.077385</td>\n",
       "    </tr>\n",
       "  </tbody>\n",
       "</table>\n",
       "<p>999 rows × 2 columns</p>\n",
       "</div>"
      ],
      "text/plain": [
       "     array_size  mean_time\n",
       "0             1   0.000017\n",
       "1             2   0.000012\n",
       "2             3   0.000014\n",
       "3             4   0.000016\n",
       "4             5   0.000018\n",
       "..          ...        ...\n",
       "994         995   0.076488\n",
       "995         996   0.086107\n",
       "996         997   0.078660\n",
       "997         998   0.090753\n",
       "998         999   0.077385\n",
       "\n",
       "[999 rows x 2 columns]"
      ]
     },
     "execution_count": 9,
     "metadata": {},
     "output_type": "execute_result"
    }
   ],
   "source": [
    "df_mean_times = df.groupby('array_size', as_index=False).agg(mean_time=pd.NamedAgg(column=\"time\", aggfunc=\"mean\"))\n",
    "df_mean_times"
   ]
  },
  {
   "cell_type": "code",
   "execution_count": 10,
   "id": "9906db7e-af29-4d09-a8fe-8c449b63c73b",
   "metadata": {},
   "outputs": [
    {
     "data": {
      "text/plain": [
       "<AxesSubplot:xlabel='array_size', ylabel='mean_time'>"
      ]
     },
     "execution_count": 10,
     "metadata": {},
     "output_type": "execute_result"
    },
    {
     "data": {
      "image/png": "[encoded data removed]",
      "text/plain": [
       "<Figure size 432x288 with 1 Axes>"
      ]
     },
     "metadata": {
      "needs_background": "light"
     },
     "output_type": "display_data"
    }
   ],
   "source": [
    "sns.scatterplot(data=df_mean_times.sample(500), x=\"array_size\", y=\"mean_time\")"
   ]
  },
  {
   "cell_type": "markdown",
   "id": "6aa9f84f-d8a3-4965-96b9-5c6e07d648d6",
   "metadata": {},
   "source": [
    "Doesn't really look linear"
   ]
  }
 ],
 "metadata": {
  "kernelspec": {
   "display_name": "Python 3 (ipykernel)",
   "language": "python",
   "name": "python3"
  },
  "language_info": {
   "codemirror_mode": {
    "name": "ipython",
    "version": 3
   },
   "file_extension": ".py",
   "mimetype": "text/x-python",
   "name": "python",
   "nbconvert_exporter": "python",
   "pygments_lexer": "ipython3",
   "version": "3.9.12"
  }
 },
 "nbformat": 4,
 "nbformat_minor": 5
}
