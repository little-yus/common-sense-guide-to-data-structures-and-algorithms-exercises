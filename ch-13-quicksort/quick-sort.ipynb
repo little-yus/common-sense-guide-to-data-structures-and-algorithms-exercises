{
 "cells": [
  {
   "cell_type": "code",
   "execution_count": 1,
   "id": "34383aa4-24ac-47e6-a664-c872f678e644",
   "metadata": {},
   "outputs": [],
   "source": [
    "import numpy as np\n",
    "import pandas as pd\n",
    "import matplotlib.pyplot as plt\n",
    "import seaborn as sns\n",
    "from timeit import default_timer as timer"
   ]
  },
  {
   "cell_type": "code",
   "execution_count": 2,
   "id": "7164667e-6bf2-4eb2-ba21-4015d05d9b45",
   "metadata": {},
   "outputs": [],
   "source": [
    "def partition(arr, start, end):\n",
    "    # select last element as a pivot (from the book)\n",
    "    pivot_index = end\n",
    "    pivot_value = arr[end]\n",
    "    \n",
    "    left = start\n",
    "    right = end - 1\n",
    "    \n",
    "    while True:\n",
    "        while left < end and arr[left] < pivot_value:\n",
    "            left += 1\n",
    "        \n",
    "        while right > start and arr[right] > pivot_value:\n",
    "            right -= 1\n",
    "        \n",
    "        if left >= right:\n",
    "            arr[left], arr[pivot_index] = arr[pivot_index], arr[left]\n",
    "            return left\n",
    "        else:\n",
    "            arr[left], arr[right] = arr[right], arr[left]\n",
    "        \n",
    "        left += 1\n",
    "        right -= 1\n",
    "    \n",
    "    raise Exception(\"unreachable\")\n",
    "\n",
    "def quicksort_implementation(arr, start, end):\n",
    "    if end - start < 1:\n",
    "        return\n",
    "    \n",
    "    pivot_index = partition(arr, start, end)\n",
    "    quicksort_implementation(arr, pivot_index + 1, end)\n",
    "    quicksort_implementation(arr, start, pivot_index - 1)\n",
    "\n",
    "def quicksort(arr):\n",
    "    quicksort_implementation(arr, 0, len(arr) - 1)\n",
    "    \n",
    "    return arr"
   ]
  },
  {
   "cell_type": "code",
   "execution_count": 3,
   "id": "318cc62c-6dd8-4c15-91a9-72c5a9b0a275",
   "metadata": {},
   "outputs": [
    {
     "name": "stdout",
     "output_type": "stream",
     "text": [
      "[]\n",
      "[123]\n",
      "[1, 2, 3]\n",
      "[1, 2, 3]\n",
      "[1, 2, 3]\n",
      "[1, 2, 3]\n",
      "[1, 2, 3]\n",
      "[1, 2, 3]\n"
     ]
    }
   ],
   "source": [
    "# trivial sorts\n",
    "print(quicksort([]))\n",
    "print(quicksort([123]))\n",
    "\n",
    "# ordered\n",
    "print(quicksort([1, 2, 3]))\n",
    "# reverse ordered\n",
    "print(quicksort([3, 2, 1]))\n",
    "\n",
    "# other permutations\n",
    "print(quicksort([1, 3, 2]))\n",
    "print(quicksort([2, 1, 3]))\n",
    "print(quicksort([2, 3, 1]))\n",
    "print(quicksort([3, 1, 2]))"
   ]
  },
  {
   "cell_type": "code",
   "execution_count": 37,
   "id": "d576e4fc-d9d9-4ec4-9059-1a9e67504d4a",
   "metadata": {},
   "outputs": [
    {
     "data": {
      "text/html": [
       "<div>\n",
       "<style scoped>\n",
       "    .dataframe tbody tr th:only-of-type {\n",
       "        vertical-align: middle;\n",
       "    }\n",
       "\n",
       "    .dataframe tbody tr th {\n",
       "        vertical-align: top;\n",
       "    }\n",
       "\n",
       "    .dataframe thead th {\n",
       "        text-align: right;\n",
       "    }\n",
       "</style>\n",
       "<table border=\"1\" class=\"dataframe\">\n",
       "  <thead>\n",
       "    <tr style=\"text-align: right;\">\n",
       "      <th></th>\n",
       "      <th>array_size</th>\n",
       "      <th>time</th>\n",
       "    </tr>\n",
       "  </thead>\n",
       "  <tbody>\n",
       "    <tr>\n",
       "      <th>0</th>\n",
       "      <td>1</td>\n",
       "      <td>0.000007</td>\n",
       "    </tr>\n",
       "    <tr>\n",
       "      <th>1</th>\n",
       "      <td>1</td>\n",
       "      <td>0.000005</td>\n",
       "    </tr>\n",
       "    <tr>\n",
       "      <th>2</th>\n",
       "      <td>1</td>\n",
       "      <td>0.000027</td>\n",
       "    </tr>\n",
       "    <tr>\n",
       "      <th>3</th>\n",
       "      <td>1</td>\n",
       "      <td>0.000004</td>\n",
       "    </tr>\n",
       "    <tr>\n",
       "      <th>4</th>\n",
       "      <td>1</td>\n",
       "      <td>0.000003</td>\n",
       "    </tr>\n",
       "    <tr>\n",
       "      <th>...</th>\n",
       "      <td>...</td>\n",
       "      <td>...</td>\n",
       "    </tr>\n",
       "    <tr>\n",
       "      <th>9985</th>\n",
       "      <td>999</td>\n",
       "      <td>0.120024</td>\n",
       "    </tr>\n",
       "    <tr>\n",
       "      <th>9986</th>\n",
       "      <td>999</td>\n",
       "      <td>0.126678</td>\n",
       "    </tr>\n",
       "    <tr>\n",
       "      <th>9987</th>\n",
       "      <td>999</td>\n",
       "      <td>0.110062</td>\n",
       "    </tr>\n",
       "    <tr>\n",
       "      <th>9988</th>\n",
       "      <td>999</td>\n",
       "      <td>0.116352</td>\n",
       "    </tr>\n",
       "    <tr>\n",
       "      <th>9989</th>\n",
       "      <td>999</td>\n",
       "      <td>0.127277</td>\n",
       "    </tr>\n",
       "  </tbody>\n",
       "</table>\n",
       "<p>9990 rows × 2 columns</p>\n",
       "</div>"
      ],
      "text/plain": [
       "      array_size      time\n",
       "0              1  0.000007\n",
       "1              1  0.000005\n",
       "2              1  0.000027\n",
       "3              1  0.000004\n",
       "4              1  0.000003\n",
       "...          ...       ...\n",
       "9985         999  0.120024\n",
       "9986         999  0.126678\n",
       "9987         999  0.110062\n",
       "9988         999  0.116352\n",
       "9989         999  0.127277\n",
       "\n",
       "[9990 rows x 2 columns]"
      ]
     },
     "execution_count": 37,
     "metadata": {},
     "output_type": "execute_result"
    }
   ],
   "source": [
    "df = pd.DataFrame(columns=(\"array_size\", \"time\"));\n",
    "\n",
    "# be careful with size, because time complexity is quadratic\n",
    "sizes = np.arange(1, 1000)\n",
    "number_of_trials = 10\n",
    "\n",
    "for array_size in sizes:\n",
    "    arr = np.arange(array_size)\n",
    "    rng = np.random.default_rng()\n",
    "    rng.shuffle(arr)\n",
    "    \n",
    "    for i in range(number_of_trials):\n",
    "        start = timer()\n",
    "        sorted_arr = quicksort(arr)\n",
    "        end = timer()\n",
    "        delta = end - start\n",
    "        \n",
    "        new_row = {\n",
    "            \"array_size\": array_size,\n",
    "            \"time\": delta\n",
    "        }\n",
    "        \n",
    "        df.loc[len(df)] = new_row\n",
    "\n",
    "df"
   ]
  },
  {
   "cell_type": "code",
   "execution_count": 38,
   "id": "fe60f12f-7915-4208-a7c2-69c41a703cc3",
   "metadata": {},
   "outputs": [
    {
     "data": {
      "text/plain": [
       "<AxesSubplot:xlabel='array_size', ylabel='time'>"
      ]
     },
     "execution_count": 38,
     "metadata": {},
     "output_type": "execute_result"
    },
    {
     "data": {
      "image/png": "[encoded data removed]",
      "text/plain": [
       "<Figure size 432x288 with 1 Axes>"
      ]
     },
     "metadata": {
      "needs_background": "light"
     },
     "output_type": "display_data"
    }
   ],
   "source": [
    "df_sample = df.sample(5000)\n",
    "sns.scatterplot(data=df_sample, x=\"array_size\", y=\"time\")"
   ]
  },
  {
   "cell_type": "code",
   "execution_count": 39,
   "id": "7dfef311-4226-45b8-86d4-e9b997057c92",
   "metadata": {},
   "outputs": [
    {
     "data": {
      "text/plain": [
       "<AxesSubplot:xlabel='array_size', ylabel='time'>"
      ]
     },
     "execution_count": 39,
     "metadata": {},
     "output_type": "execute_result"
    },
    {
     "data": {
      "image/png": "[encoded data removed]",
      "text/plain": [
       "<Figure size 432x288 with 1 Axes>"
      ]
     },
     "metadata": {
      "needs_background": "light"
     },
     "output_type": "display_data"
    }
   ],
   "source": [
    "sns.scatterplot(data=df_sample[df_sample['time'] < 0.01], x=\"array_size\", y=\"time\")"
   ]
  },
  {
   "cell_type": "markdown",
   "id": "f09127f5-565d-446f-b743-3659b4011ec0",
   "metadata": {},
   "source": [
    "Linear best case"
   ]
  },
  {
   "cell_type": "code",
   "execution_count": 40,
   "id": "021fa194-6599-4b60-b49a-4aa6bf66b939",
   "metadata": {},
   "outputs": [
    {
     "data": {
      "text/html": [
       "<div>\n",
       "<style scoped>\n",
       "    .dataframe tbody tr th:only-of-type {\n",
       "        vertical-align: middle;\n",
       "    }\n",
       "\n",
       "    .dataframe tbody tr th {\n",
       "        vertical-align: top;\n",
       "    }\n",
       "\n",
       "    .dataframe thead th {\n",
       "        text-align: right;\n",
       "    }\n",
       "</style>\n",
       "<table border=\"1\" class=\"dataframe\">\n",
       "  <thead>\n",
       "    <tr style=\"text-align: right;\">\n",
       "      <th></th>\n",
       "      <th>array_size</th>\n",
       "      <th>mean_time</th>\n",
       "    </tr>\n",
       "  </thead>\n",
       "  <tbody>\n",
       "    <tr>\n",
       "      <th>0</th>\n",
       "      <td>1</td>\n",
       "      <td>0.000006</td>\n",
       "    </tr>\n",
       "    <tr>\n",
       "      <th>1</th>\n",
       "      <td>2</td>\n",
       "      <td>0.000010</td>\n",
       "    </tr>\n",
       "    <tr>\n",
       "      <th>2</th>\n",
       "      <td>3</td>\n",
       "      <td>0.000008</td>\n",
       "    </tr>\n",
       "    <tr>\n",
       "      <th>3</th>\n",
       "      <td>4</td>\n",
       "      <td>0.000010</td>\n",
       "    </tr>\n",
       "    <tr>\n",
       "      <th>4</th>\n",
       "      <td>5</td>\n",
       "      <td>0.000012</td>\n",
       "    </tr>\n",
       "    <tr>\n",
       "      <th>...</th>\n",
       "      <td>...</td>\n",
       "      <td>...</td>\n",
       "    </tr>\n",
       "    <tr>\n",
       "      <th>994</th>\n",
       "      <td>995</td>\n",
       "      <td>0.095457</td>\n",
       "    </tr>\n",
       "    <tr>\n",
       "      <th>995</th>\n",
       "      <td>996</td>\n",
       "      <td>0.107058</td>\n",
       "    </tr>\n",
       "    <tr>\n",
       "      <th>996</th>\n",
       "      <td>997</td>\n",
       "      <td>0.099783</td>\n",
       "    </tr>\n",
       "    <tr>\n",
       "      <th>997</th>\n",
       "      <td>998</td>\n",
       "      <td>0.097367</td>\n",
       "    </tr>\n",
       "    <tr>\n",
       "      <th>998</th>\n",
       "      <td>999</td>\n",
       "      <td>0.112427</td>\n",
       "    </tr>\n",
       "  </tbody>\n",
       "</table>\n",
       "<p>999 rows × 2 columns</p>\n",
       "</div>"
      ],
      "text/plain": [
       "     array_size  mean_time\n",
       "0             1   0.000006\n",
       "1             2   0.000010\n",
       "2             3   0.000008\n",
       "3             4   0.000010\n",
       "4             5   0.000012\n",
       "..          ...        ...\n",
       "994         995   0.095457\n",
       "995         996   0.107058\n",
       "996         997   0.099783\n",
       "997         998   0.097367\n",
       "998         999   0.112427\n",
       "\n",
       "[999 rows x 2 columns]"
      ]
     },
     "execution_count": 40,
     "metadata": {},
     "output_type": "execute_result"
    }
   ],
   "source": [
    "df_mean_times = df.groupby('array_size', as_index=False).agg(mean_time=pd.NamedAgg(column=\"time\", aggfunc=\"mean\"))\n",
    "df_mean_times"
   ]
  },
  {
   "cell_type": "code",
   "execution_count": 41,
   "id": "625853e8-7b5c-4ca1-9891-c4c42855988d",
   "metadata": {
    "tags": []
   },
   "outputs": [
    {
     "data": {
      "text/plain": [
       "<AxesSubplot:xlabel='array_size', ylabel='mean_time'>"
      ]
     },
     "execution_count": 41,
     "metadata": {},
     "output_type": "execute_result"
    },
    {
     "data": {
      "image/png": "[encoded data removed]",
      "text/plain": [
       "<Figure size 432x288 with 1 Axes>"
      ]
     },
     "metadata": {
      "needs_background": "light"
     },
     "output_type": "display_data"
    }
   ],
   "source": [
    "sns.scatterplot(data=df_mean_times.sample(500), x=\"array_size\", y=\"mean_time\")"
   ]
  },
  {
   "cell_type": "markdown",
   "id": "9f6f85b6-a4d4-4b07-98d5-3c232bec1225",
   "metadata": {},
   "source": [
    "Should be O(Nlog(N)) average case"
   ]
  },
  {
   "cell_type": "markdown",
   "id": "1d32871e-51a0-4ce4-a01a-558b79f03658",
   "metadata": {},
   "source": [
    "Now i will try to estimate mean time with linear regression."
   ]
  },
  {
   "cell_type": "markdown",
   "id": "7b3f188e-094b-467a-969b-e59bec0ddf99",
   "metadata": {},
   "source": [
    "First i try to fit quadratic curve"
   ]
  },
  {
   "cell_type": "code",
   "execution_count": 42,
   "id": "385ea04a-a974-4e87-8eac-a00f9abd33e0",
   "metadata": {},
   "outputs": [
    {
     "data": {
      "text/html": [
       "<div>\n",
       "<style scoped>\n",
       "    .dataframe tbody tr th:only-of-type {\n",
       "        vertical-align: middle;\n",
       "    }\n",
       "\n",
       "    .dataframe tbody tr th {\n",
       "        vertical-align: top;\n",
       "    }\n",
       "\n",
       "    .dataframe thead th {\n",
       "        text-align: right;\n",
       "    }\n",
       "</style>\n",
       "<table border=\"1\" class=\"dataframe\">\n",
       "  <thead>\n",
       "    <tr style=\"text-align: right;\">\n",
       "      <th></th>\n",
       "      <th>array_size</th>\n",
       "      <th>array_size^2</th>\n",
       "      <th>mean_time</th>\n",
       "    </tr>\n",
       "  </thead>\n",
       "  <tbody>\n",
       "    <tr>\n",
       "      <th>0</th>\n",
       "      <td>1</td>\n",
       "      <td>1</td>\n",
       "      <td>0.000006</td>\n",
       "    </tr>\n",
       "    <tr>\n",
       "      <th>1</th>\n",
       "      <td>2</td>\n",
       "      <td>4</td>\n",
       "      <td>0.000010</td>\n",
       "    </tr>\n",
       "    <tr>\n",
       "      <th>2</th>\n",
       "      <td>3</td>\n",
       "      <td>9</td>\n",
       "      <td>0.000008</td>\n",
       "    </tr>\n",
       "    <tr>\n",
       "      <th>3</th>\n",
       "      <td>4</td>\n",
       "      <td>16</td>\n",
       "      <td>0.000010</td>\n",
       "    </tr>\n",
       "    <tr>\n",
       "      <th>4</th>\n",
       "      <td>5</td>\n",
       "      <td>25</td>\n",
       "      <td>0.000012</td>\n",
       "    </tr>\n",
       "    <tr>\n",
       "      <th>...</th>\n",
       "      <td>...</td>\n",
       "      <td>...</td>\n",
       "      <td>...</td>\n",
       "    </tr>\n",
       "    <tr>\n",
       "      <th>994</th>\n",
       "      <td>995</td>\n",
       "      <td>990025</td>\n",
       "      <td>0.095457</td>\n",
       "    </tr>\n",
       "    <tr>\n",
       "      <th>995</th>\n",
       "      <td>996</td>\n",
       "      <td>992016</td>\n",
       "      <td>0.107058</td>\n",
       "    </tr>\n",
       "    <tr>\n",
       "      <th>996</th>\n",
       "      <td>997</td>\n",
       "      <td>994009</td>\n",
       "      <td>0.099783</td>\n",
       "    </tr>\n",
       "    <tr>\n",
       "      <th>997</th>\n",
       "      <td>998</td>\n",
       "      <td>996004</td>\n",
       "      <td>0.097367</td>\n",
       "    </tr>\n",
       "    <tr>\n",
       "      <th>998</th>\n",
       "      <td>999</td>\n",
       "      <td>998001</td>\n",
       "      <td>0.112427</td>\n",
       "    </tr>\n",
       "  </tbody>\n",
       "</table>\n",
       "<p>999 rows × 3 columns</p>\n",
       "</div>"
      ],
      "text/plain": [
       "     array_size  array_size^2  mean_time\n",
       "0             1             1   0.000006\n",
       "1             2             4   0.000010\n",
       "2             3             9   0.000008\n",
       "3             4            16   0.000010\n",
       "4             5            25   0.000012\n",
       "..          ...           ...        ...\n",
       "994         995        990025   0.095457\n",
       "995         996        992016   0.107058\n",
       "996         997        994009   0.099783\n",
       "997         998        996004   0.097367\n",
       "998         999        998001   0.112427\n",
       "\n",
       "[999 rows x 3 columns]"
      ]
     },
     "execution_count": 42,
     "metadata": {},
     "output_type": "execute_result"
    }
   ],
   "source": [
    "df_regression = pd.DataFrame({\n",
    "    'array_size': df_mean_times['array_size'],\n",
    "    'array_size^2': df_mean_times['array_size']**2,\n",
    "    'mean_time': df_mean_times['mean_time']\n",
    "})\n",
    "df_regression"
   ]
  },
  {
   "cell_type": "code",
   "execution_count": 43,
   "id": "a965b2dc-8731-414c-ac7a-06432a093173",
   "metadata": {},
   "outputs": [
    {
     "data": {
      "text/plain": [
       "LinearRegression()"
      ]
     },
     "execution_count": 43,
     "metadata": {},
     "output_type": "execute_result"
    }
   ],
   "source": [
    "from sklearn.linear_model import LinearRegression\n",
    "\n",
    "model = LinearRegression()\n",
    "X = df_regression[['array_size', 'array_size^2']]\n",
    "y = df_regression['mean_time']\n",
    "\n",
    "model.fit(X, y)"
   ]
  },
  {
   "cell_type": "code",
   "execution_count": 44,
   "id": "35a76114-2c60-4af1-8480-6eb2b2bbc4cc",
   "metadata": {},
   "outputs": [
    {
     "data": {
      "text/plain": [
       "array([-2.08681276e-05,  1.35919416e-07])"
      ]
     },
     "execution_count": 44,
     "metadata": {},
     "output_type": "execute_result"
    }
   ],
   "source": [
    "model.coef_"
   ]
  },
  {
   "cell_type": "code",
   "execution_count": 47,
   "id": "64b8ef79-367d-4a46-a656-639b91602a41",
   "metadata": {},
   "outputs": [],
   "source": [
    "regression_array_size = np.arange(1, 1000)\n",
    "df_regression_predicted = pd.DataFrame({\n",
    "    'array_size': regression_array_size,\n",
    "    'array_size^2': regression_array_size**2\n",
    "})\n",
    "\n",
    "df_regression_predicted['mean_time'] = model.predict(df_regression_predicted)"
   ]
  },
  {
   "cell_type": "code",
   "execution_count": 48,
   "id": "42c72e96-26bd-456e-bb16-0af1ce02a721",
   "metadata": {},
   "outputs": [
    {
     "data": {
      "text/plain": [
       "<AxesSubplot:xlabel='array_size', ylabel='mean_time'>"
      ]
     },
     "execution_count": 48,
     "metadata": {},
     "output_type": "execute_result"
    },
    {
     "data": {
      "image/png": "[encoded data removed]",
      "text/plain": [
       "<Figure size 432x288 with 1 Axes>"
      ]
     },
     "metadata": {
      "needs_background": "light"
     },
     "output_type": "display_data"
    }
   ],
   "source": [
    "fig, ax = plt.subplots()\n",
    "\n",
    "sns.scatterplot(ax=ax, data=df_mean_times, x=\"array_size\", y=\"mean_time\")\n",
    "sns.lineplot(ax=ax, data=df_regression_predicted, x=\"array_size\", y=\"mean_time\", color=\"red\", linewidth = 3)"
   ]
  },
  {
   "cell_type": "markdown",
   "id": "1dd5557b-06f2-40c4-a7c3-aa9816d2c25b",
   "metadata": {},
   "source": [
    "And Nlog(N) curve"
   ]
  },
  {
   "cell_type": "code",
   "execution_count": 49,
   "id": "74366afa-cec0-452a-b838-bce11c1a6357",
   "metadata": {},
   "outputs": [
    {
     "data": {
      "text/html": [
       "<div>\n",
       "<style scoped>\n",
       "    .dataframe tbody tr th:only-of-type {\n",
       "        vertical-align: middle;\n",
       "    }\n",
       "\n",
       "    .dataframe tbody tr th {\n",
       "        vertical-align: top;\n",
       "    }\n",
       "\n",
       "    .dataframe thead th {\n",
       "        text-align: right;\n",
       "    }\n",
       "</style>\n",
       "<table border=\"1\" class=\"dataframe\">\n",
       "  <thead>\n",
       "    <tr style=\"text-align: right;\">\n",
       "      <th></th>\n",
       "      <th>array_size</th>\n",
       "      <th>array_size * log2(array_size)</th>\n",
       "      <th>mean_time</th>\n",
       "    </tr>\n",
       "  </thead>\n",
       "  <tbody>\n",
       "    <tr>\n",
       "      <th>0</th>\n",
       "      <td>1</td>\n",
       "      <td>0.000000</td>\n",
       "      <td>0.000006</td>\n",
       "    </tr>\n",
       "    <tr>\n",
       "      <th>1</th>\n",
       "      <td>2</td>\n",
       "      <td>2.000000</td>\n",
       "      <td>0.000010</td>\n",
       "    </tr>\n",
       "    <tr>\n",
       "      <th>2</th>\n",
       "      <td>3</td>\n",
       "      <td>4.754888</td>\n",
       "      <td>0.000008</td>\n",
       "    </tr>\n",
       "    <tr>\n",
       "      <th>3</th>\n",
       "      <td>4</td>\n",
       "      <td>8.000000</td>\n",
       "      <td>0.000010</td>\n",
       "    </tr>\n",
       "    <tr>\n",
       "      <th>4</th>\n",
       "      <td>5</td>\n",
       "      <td>11.609640</td>\n",
       "      <td>0.000012</td>\n",
       "    </tr>\n",
       "    <tr>\n",
       "      <th>...</th>\n",
       "      <td>...</td>\n",
       "      <td>...</td>\n",
       "      <td>...</td>\n",
       "    </tr>\n",
       "    <tr>\n",
       "      <th>994</th>\n",
       "      <td>995</td>\n",
       "      <td>9908.759952</td>\n",
       "      <td>0.095457</td>\n",
       "    </tr>\n",
       "    <tr>\n",
       "      <th>995</th>\n",
       "      <td>996</td>\n",
       "      <td>9920.161924</td>\n",
       "      <td>0.107058</td>\n",
       "    </tr>\n",
       "    <tr>\n",
       "      <th>996</th>\n",
       "      <td>997</td>\n",
       "      <td>9931.565345</td>\n",
       "      <td>0.099783</td>\n",
       "    </tr>\n",
       "    <tr>\n",
       "      <th>997</th>\n",
       "      <td>998</td>\n",
       "      <td>9942.970213</td>\n",
       "      <td>0.097367</td>\n",
       "    </tr>\n",
       "    <tr>\n",
       "      <th>998</th>\n",
       "      <td>999</td>\n",
       "      <td>9954.376527</td>\n",
       "      <td>0.112427</td>\n",
       "    </tr>\n",
       "  </tbody>\n",
       "</table>\n",
       "<p>999 rows × 3 columns</p>\n",
       "</div>"
      ],
      "text/plain": [
       "     array_size  array_size * log2(array_size)  mean_time\n",
       "0             1                       0.000000   0.000006\n",
       "1             2                       2.000000   0.000010\n",
       "2             3                       4.754888   0.000008\n",
       "3             4                       8.000000   0.000010\n",
       "4             5                      11.609640   0.000012\n",
       "..          ...                            ...        ...\n",
       "994         995                    9908.759952   0.095457\n",
       "995         996                    9920.161924   0.107058\n",
       "996         997                    9931.565345   0.099783\n",
       "997         998                    9942.970213   0.097367\n",
       "998         999                    9954.376527   0.112427\n",
       "\n",
       "[999 rows x 3 columns]"
      ]
     },
     "execution_count": 49,
     "metadata": {},
     "output_type": "execute_result"
    }
   ],
   "source": [
    "df_regression = pd.DataFrame({\n",
    "    'array_size': df_mean_times['array_size'],\n",
    "    'array_size * log2(array_size)': np.log2(df_mean_times['array_size']) * df_mean_times['array_size'],\n",
    "    'mean_time': df_mean_times['mean_time']\n",
    "})\n",
    "df_regression"
   ]
  },
  {
   "cell_type": "code",
   "execution_count": 50,
   "id": "91d44d57-2232-478b-96e9-725f13f32de7",
   "metadata": {},
   "outputs": [
    {
     "data": {
      "text/plain": [
       "LinearRegression()"
      ]
     },
     "execution_count": 50,
     "metadata": {},
     "output_type": "execute_result"
    }
   ],
   "source": [
    "from sklearn.linear_model import LinearRegression\n",
    "\n",
    "model = LinearRegression()\n",
    "X = df_regression[['array_size', 'array_size * log2(array_size)']]\n",
    "y = df_regression['mean_time']\n",
    "\n",
    "model.fit(X, y)"
   ]
  },
  {
   "cell_type": "code",
   "execution_count": 51,
   "id": "76dc6e3d-7c62-41c6-ab9a-494c0bc764a8",
   "metadata": {},
   "outputs": [
    {
     "data": {
      "text/plain": [
       "array([-5.86489290e-04,  6.87316509e-05])"
      ]
     },
     "execution_count": 51,
     "metadata": {},
     "output_type": "execute_result"
    }
   ],
   "source": [
    "model.coef_"
   ]
  },
  {
   "cell_type": "code",
   "execution_count": 54,
   "id": "16118da1-360b-4d15-b4f7-e8fe400f88c7",
   "metadata": {},
   "outputs": [],
   "source": [
    "regression_array_size = np.arange(1, 1000)\n",
    "df_regression_predicted = pd.DataFrame({\n",
    "    'array_size': regression_array_size,\n",
    "    'array_size * log2(array_size)': regression_array_size * np.log2(regression_array_size)\n",
    "})\n",
    "\n",
    "df_regression_predicted['mean_time'] = model.predict(df_regression_predicted)"
   ]
  },
  {
   "cell_type": "code",
   "execution_count": 55,
   "id": "b3e3b0c6-cb65-4b73-bda8-2d7b8beec416",
   "metadata": {},
   "outputs": [
    {
     "data": {
      "text/plain": [
       "<AxesSubplot:xlabel='array_size', ylabel='mean_time'>"
      ]
     },
     "execution_count": 55,
     "metadata": {},
     "output_type": "execute_result"
    },
    {
     "data": {
      "image/png": "[encoded data removed]",
      "text/plain": [
       "<Figure size 432x288 with 1 Axes>"
      ]
     },
     "metadata": {
      "needs_background": "light"
     },
     "output_type": "display_data"
    }
   ],
   "source": [
    "fig, ax = plt.subplots()\n",
    "\n",
    "sns.scatterplot(ax=ax, data=df_mean_times, x=\"array_size\", y=\"mean_time\")\n",
    "sns.lineplot(ax=ax, data=df_regression_predicted, x=\"array_size\", y=\"mean_time\", color=\"red\", linewidth = 3)"
   ]
  },
  {
   "cell_type": "markdown",
   "id": "234c42aa-4fc3-49df-8694-68cbae7ffe75",
   "metadata": {},
   "source": [
    "Doesn't look like it fits better, maybe this is because pivot picking in partition function is pretty stupid. Or my m"
   ]
  }
 ],
 "metadata": {
  "kernelspec": {
   "display_name": "Python 3 (ipykernel)",
   "language": "python",
   "name": "python3"
  },
  "language_info": {
   "codemirror_mode": {
    "name": "ipython",
    "version": 3
   },
   "file_extension": ".py",
   "mimetype": "text/x-python",
   "name": "python",
   "nbconvert_exporter": "python",
   "pygments_lexer": "ipython3",
   "version": "3.9.12"
  }
 },
 "nbformat": 4,
 "nbformat_minor": 5
}
