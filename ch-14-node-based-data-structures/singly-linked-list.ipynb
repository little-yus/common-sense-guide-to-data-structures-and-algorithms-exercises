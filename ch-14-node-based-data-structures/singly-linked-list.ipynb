{
 "cells": [
  {
   "cell_type": "code",
   "execution_count": 3,
   "id": "79f820d9-a9e8-4891-9018-c26442752778",
   "metadata": {},
   "outputs": [],
   "source": [
    "class Node:\n",
    "    def __init__(self, value, next_node):\n",
    "        self.data = value\n",
    "        self.next_node = next_node"
   ]
  },
  {
   "cell_type": "code",
   "execution_count": 4,
   "id": "65ec153c-1d11-4f2e-837d-058c5ee6b82c",
   "metadata": {},
   "outputs": [],
   "source": [
    "class LinkedList:\n",
    "    def __init__(self):\n",
    "        self.head_node = None\n",
    "    \n",
    "    def read(self, index):\n",
    "        current_index = 0\n",
    "        current_node = self.head_node\n",
    "        \n",
    "        while (current_node is not None) and current_index < index:\n",
    "            current_index += 1\n",
    "            current_node = current_node.next_node\n",
    "        \n",
    "        if current_node is None:\n",
    "            raise Exception(\"Index must be in range [0, list_length)\")\n",
    "        \n",
    "        return current_node.data\n",
    "    \n",
    "    def index_of(self, value):\n",
    "        current_index = 0\n",
    "        current_node = self.head_node\n",
    "        \n",
    "        while (current_node is not None) and current_node.data != value:\n",
    "            current_index += 1\n",
    "            current_node = current_node.next_node\n",
    "        \n",
    "        if current_node is None:\n",
    "            return None\n",
    "        \n",
    "        return current_index\n",
    "    \n",
    "    # After successful insert - list.read(index) == value\n",
    "    def insert(self, value, index):\n",
    "        if index == 0:\n",
    "            self.head_node = Node(value, self.head_node)\n",
    "            return\n",
    "        \n",
    "        before_index = 0\n",
    "        before_node = self.head_node\n",
    "        \n",
    "        while (before_node is not None) and before_index < (index - 1):\n",
    "            before_index += 1\n",
    "            before_node = before_node.next_node\n",
    "        \n",
    "        if before_node is None:\n",
    "            raise Exception(\"Index must be in range [0, list_length]\")\n",
    "        \n",
    "        new_node = Node(value, before_node.next_node)\n",
    "        before_node.next_node = new_node\n",
    "    \n",
    "    def delete_at_index(self, index):\n",
    "        if self.head_node is None:\n",
    "            raise Exception(\"Index must be in range [0, list_length)\")\n",
    "        \n",
    "        if index == 0:\n",
    "            self.head_node = self.head_node.next_node\n",
    "            return\n",
    "        \n",
    "        before_index = 0\n",
    "        before_node = self.head_node\n",
    "        \n",
    "        while (before_node is not None) and before_index < (index - 1):\n",
    "            before_index += 1\n",
    "            before_node = before_node.next_node\n",
    "        \n",
    "        if before_node is None:\n",
    "            raise Exception(\"Index must be in range [0, list_length)\")\n",
    "        \n",
    "        delete_node = before_node.next_node\n",
    "        if delete_node is None:\n",
    "            raise Exception(\"Index must be in range [0, list_length)\")\n",
    "        \n",
    "        before_node.next_node = delete_node.next_node\n",
    "    \n",
    "    # Task 1\n",
    "    def print(self):\n",
    "        if self.head_node is None:\n",
    "            print(\"Nil\")\n",
    "            return\n",
    "        \n",
    "        current_node = self.head_node\n",
    "        while (current_node is not None):\n",
    "            print(f\"{current_node.data} -> \", end=\"\")\n",
    "            current_node = current_node.next_node\n",
    "        print(\"Nil\")\n",
    "    \n",
    "    # Task 3\n",
    "    def last(self):\n",
    "        if self.head_node is None:\n",
    "            return None\n",
    "        \n",
    "        current_node = self.head_node\n",
    "        while current_node.next_node is not None:\n",
    "            current_node = current_node.next_node\n",
    "        \n",
    "        return current_node.data\n",
    "    \n",
    "    # Task 4\n",
    "    def reverse(self):\n",
    "        previous_node = None\n",
    "        current_node = self.head_node\n",
    "        \n",
    "        while current_node is not None:\n",
    "            next_node = current_node.next_node\n",
    "            current_node.next_node = previous_node\n",
    "            \n",
    "            previous_node = current_node\n",
    "            current_node = next_node\n",
    "        \n",
    "        self.head_node = previous_node"
   ]
  },
  {
   "cell_type": "code",
   "execution_count": 5,
   "id": "e0db65d0-6916-48a6-b00c-3ad6ed2cc6bc",
   "metadata": {},
   "outputs": [],
   "source": [
    "def from_list(python_list):\n",
    "    linked_list = LinkedList()\n",
    "    for x in python_list[::-1]:\n",
    "        linked_list.insert(x, 0)\n",
    "    \n",
    "    return linked_list"
   ]
  },
  {
   "cell_type": "code",
   "execution_count": 103,
   "id": "a3ceeb41-2635-40c1-9a6c-09fea2ff7e87",
   "metadata": {},
   "outputs": [
    {
     "name": "stdout",
     "output_type": "stream",
     "text": [
      "Index must be in range [0, list_length)\n",
      "Index must be in range [0, list_length)\n",
      "1\n",
      "1\n",
      "2\n",
      "3\n"
     ]
    }
   ],
   "source": [
    "# No elements\n",
    "try:\n",
    "    print(from_list([]).read(0))\n",
    "except Exception as e:\n",
    "    print(e)\n",
    "\n",
    "# No element with index 3\n",
    "try:\n",
    "    print(from_list([1, 2, 3]).read(3))\n",
    "except Exception as e:\n",
    "    print(e)\n",
    "\n",
    "print(from_list([1]).read(0))\n",
    "print(from_list([1, 2, 3]).read(0))\n",
    "print(from_list([1, 2, 3]).read(1))\n",
    "print(from_list([1, 2, 3]).read(2))"
   ]
  },
  {
   "cell_type": "code",
   "execution_count": 104,
   "id": "104c1ac6-7c3f-4cfb-ae7c-b4125c30f8cf",
   "metadata": {},
   "outputs": [
    {
     "name": "stdout",
     "output_type": "stream",
     "text": [
      "None\n",
      "0\n",
      "0\n",
      "1\n",
      "2\n",
      "None\n"
     ]
    }
   ],
   "source": [
    "print(from_list([]).index_of(1))\n",
    "print(from_list([1]).index_of(1))\n",
    "print(from_list([1, 2, 3]).index_of(1))\n",
    "print(from_list([1, 2, 3]).index_of(2))\n",
    "print(from_list([1, 2, 3]).index_of(3))\n",
    "print(from_list([1, 2, 3]).index_of(4))"
   ]
  },
  {
   "cell_type": "code",
   "execution_count": 105,
   "id": "75138e36-1a1e-424a-b4dd-044d91e19a3e",
   "metadata": {},
   "outputs": [
    {
     "name": "stdout",
     "output_type": "stream",
     "text": [
      "456 -> Nil\n",
      "Index must be in range [0, list_length]\n",
      "456 -> 1 -> 2 -> 3 -> Nil\n",
      "1 -> 456 -> 2 -> 3 -> Nil\n",
      "1 -> 2 -> 456 -> 3 -> Nil\n",
      "1 -> 2 -> 3 -> 456 -> Nil\n",
      "Index must be in range [0, list_length]\n"
     ]
    }
   ],
   "source": [
    "xs = LinkedList()\n",
    "xs.insert(456, 0)\n",
    "xs.print()\n",
    "\n",
    "try:\n",
    "    xs = from_list([])\n",
    "    xs.insert(456, 1)\n",
    "    xs.print()\n",
    "except Exception as e:\n",
    "    print(e)\n",
    "\n",
    "xs = from_list([1, 2, 3])\n",
    "xs.insert(456, 0)\n",
    "xs.print()\n",
    "\n",
    "xs = from_list([1, 2, 3])\n",
    "xs.insert(456, 1)\n",
    "xs.print()\n",
    "\n",
    "xs = from_list([1, 2, 3])\n",
    "xs.insert(456, 2)\n",
    "xs.print()\n",
    "\n",
    "xs = from_list([1, 2, 3])\n",
    "xs.insert(456, 3)\n",
    "xs.print()\n",
    "\n",
    "try:\n",
    "    xs = from_list([1, 2, 3])\n",
    "    xs.insert(456, 4)\n",
    "    xs.print()\n",
    "except Exception as e:\n",
    "    print(e)"
   ]
  },
  {
   "cell_type": "code",
   "execution_count": 106,
   "id": "8c9bf6af-c21a-42b8-9215-99f7d9d86242",
   "metadata": {},
   "outputs": [
    {
     "name": "stdout",
     "output_type": "stream",
     "text": [
      "Index must be in range [0, list_length)\n",
      "Nil\n",
      "2 -> 3 -> Nil\n",
      "1 -> 3 -> Nil\n",
      "1 -> 2 -> Nil\n",
      "Index must be in range [0, list_length)\n"
     ]
    }
   ],
   "source": [
    "xs = from_list([])\n",
    "try:\n",
    "    xs.delete_at_index(0)\n",
    "except Exception as e:\n",
    "    print(e)\n",
    "\n",
    "xs = from_list([1])\n",
    "xs.delete_at_index(0)\n",
    "xs.print()\n",
    "\n",
    "xs = from_list([1, 2, 3])\n",
    "xs.delete_at_index(0)\n",
    "xs.print()\n",
    "\n",
    "xs = from_list([1, 2, 3])\n",
    "xs.delete_at_index(1)\n",
    "xs.print()\n",
    "\n",
    "xs = from_list([1, 2, 3])\n",
    "xs.delete_at_index(2)\n",
    "xs.print()\n",
    "\n",
    "xs = from_list([1, 2, 3])\n",
    "try:\n",
    "    xs.delete_at_index(3)\n",
    "except Exception as e:\n",
    "    print(e)"
   ]
  },
  {
   "cell_type": "markdown",
   "id": "40641103-e8a6-4037-b444-0b38c30ab079",
   "metadata": {},
   "source": [
    "### Finally tasks from the book"
   ]
  },
  {
   "cell_type": "code",
   "execution_count": 108,
   "id": "ac62ce26-bc87-4c6c-8e7e-1e9e73aaa183",
   "metadata": {},
   "outputs": [
    {
     "name": "stdout",
     "output_type": "stream",
     "text": [
      "Nil\n",
      "1 -> Nil\n",
      "1 -> 2 -> 3 -> Nil\n"
     ]
    }
   ],
   "source": [
    "# 1. Add a method to the classic LinkedList class that prints all the elements of the list.\n",
    "# Already implemented and used this one\n",
    "from_list([]).print()\n",
    "from_list([1]).print()\n",
    "from_list([1, 2, 3]).print()"
   ]
  },
  {
   "cell_type": "code",
   "execution_count": 112,
   "id": "8b21ec79-5b43-4370-a20e-9a89b27a2835",
   "metadata": {},
   "outputs": [
    {
     "name": "stdout",
     "output_type": "stream",
     "text": [
      "None\n",
      "1\n",
      "2\n",
      "3\n"
     ]
    }
   ],
   "source": [
    "# 3. Add a method to the classic LinkedList class that returns the last element from the list. Assume you don’t know how many elements are in the list.\n",
    "print(from_list([]).last())\n",
    "print(from_list([1]).last())\n",
    "print(from_list([1, 2]).last())\n",
    "print(from_list([1, 2, 3]).last())"
   ]
  },
  {
   "cell_type": "code",
   "execution_count": 116,
   "id": "d371b04a-3261-40ab-8f97-06c035c5300d",
   "metadata": {},
   "outputs": [
    {
     "name": "stdout",
     "output_type": "stream",
     "text": [
      "Nil\n",
      "1 -> Nil\n",
      "2 -> 1 -> Nil\n",
      "3 -> 2 -> 1 -> Nil\n"
     ]
    }
   ],
   "source": [
    "# 4. Here’s a tricky one. Add a method to the classic LinkedList class that\n",
    "# reverses the list. That is, if the original list is A -> B -> C, all of the list’s\n",
    "# links should change so that C -> B -> A.\n",
    "xs = from_list([])\n",
    "xs.reverse()\n",
    "xs.print()\n",
    "\n",
    "xs = from_list([1])\n",
    "xs.reverse()\n",
    "xs.print()\n",
    "\n",
    "xs = from_list([1, 2])\n",
    "xs.reverse()\n",
    "xs.print()\n",
    "\n",
    "xs = from_list([1, 2, 3])\n",
    "xs.reverse()\n",
    "xs.print()"
   ]
  },
  {
   "cell_type": "code",
   "execution_count": 11,
   "id": "5b7b49b5-7634-43a1-9894-33858581ecbc",
   "metadata": {},
   "outputs": [
    {
     "name": "stdout",
     "output_type": "stream",
     "text": [
      "2 -> 3 -> Nil\n",
      "1 -> 3 -> Nil\n",
      "Cannot delete last node this way\n",
      "Why are you deleting empty node?\n"
     ]
    }
   ],
   "source": [
    "# 5. Here’s a brilliant little linked list puzzle for you. Let’s say you have access\n",
    "# to a node from somewhere in the middle of a classic linked list, but not\n",
    "# the linked list itself. That is, you have a variable that points to an instance\n",
    "# of Node, but you don’t have access to the LinkedList instance. In this situation,\n",
    "# if you follow this node’s link, you can find all the items from this middle\n",
    "# node until the end, but you have no way to find the nodes that precede\n",
    "# this node in the list.\n",
    "# Write code that will effectively delete this node from the list. The entire\n",
    "# remaining list should remain complete, with only this node removed.\n",
    "def print_nodes(node):\n",
    "        if node is None:\n",
    "            print(\"Nil\")\n",
    "            return\n",
    "        \n",
    "        current_node = node\n",
    "        while (current_node is not None):\n",
    "            print(f\"{current_node.data} -> \", end=\"\")\n",
    "            current_node = current_node.next_node\n",
    "        print(\"Nil\")\n",
    "\n",
    "def remove_node(node):\n",
    "    if node is None:\n",
    "        raise Exception(\"Why are you deleting empty node?\")\n",
    "    \n",
    "    if node.next_node is None:\n",
    "        raise Exception(\"Cannot delete last node this way\")\n",
    "    \n",
    "    node.data = node.next_node.data\n",
    "    node.next_node = node.next_node.next_node\n",
    "\n",
    "xs = from_list([1, 2, 3])\n",
    "remove_node(xs.head_node)\n",
    "xs.print()\n",
    "\n",
    "xs = from_list([1, 2, 3])\n",
    "remove_node(xs.head_node.next_node)\n",
    "xs.print()\n",
    "\n",
    "xs = from_list([1, 2, 3])\n",
    "try:\n",
    "    remove_node(xs.head_node.next_node.next_node)\n",
    "    xs.print()\n",
    "except Exception as e:\n",
    "    print(e)\n",
    "\n",
    "try:\n",
    "    remove_node(None)\n",
    "except Exception as e:\n",
    "    print(e)"
   ]
  }
 ],
 "metadata": {
  "kernelspec": {
   "display_name": "Python 3 (ipykernel)",
   "language": "python",
   "name": "python3"
  },
  "language_info": {
   "codemirror_mode": {
    "name": "ipython",
    "version": 3
   },
   "file_extension": ".py",
   "mimetype": "text/x-python",
   "name": "python",
   "nbconvert_exporter": "python",
   "pygments_lexer": "ipython3",
   "version": "3.9.12"
  }
 },
 "nbformat": 4,
 "nbformat_minor": 5
}
