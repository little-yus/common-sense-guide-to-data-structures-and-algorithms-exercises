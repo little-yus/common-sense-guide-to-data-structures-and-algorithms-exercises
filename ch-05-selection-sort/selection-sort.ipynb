{
 "cells": [
  {
   "cell_type": "code",
   "execution_count": 1,
   "id": "34383aa4-24ac-47e6-a664-c872f678e644",
   "metadata": {},
   "outputs": [],
   "source": [
    "import numpy as np\n",
    "import pandas as pd\n",
    "import matplotlib.pyplot as plt\n",
    "import seaborn as sns\n",
    "from timeit import default_timer as timer"
   ]
  },
  {
   "cell_type": "code",
   "execution_count": 27,
   "id": "7164667e-6bf2-4eb2-ba21-4015d05d9b45",
   "metadata": {},
   "outputs": [],
   "source": [
    "# (start, end]\n",
    "def minimum_index(arr, start, end):\n",
    "    min_index = start\n",
    "    \n",
    "    for i in range(start, end):\n",
    "        if arr[i] < arr[min_index]:\n",
    "            min_index = i\n",
    "    \n",
    "    return min_index\n",
    "\n",
    "def selection_sort(arr):\n",
    "    for i in range(len(arr) - 1):\n",
    "        min_index = minimum_index(arr, i, len(arr))\n",
    "        # We could check if the indexes are equal to know if we should swap, but thats just trading swap for comparison\n",
    "        arr[i], arr[min_index] = arr[min_index], arr[i]\n",
    "    \n",
    "    return arr"
   ]
  },
  {
   "cell_type": "code",
   "execution_count": 28,
   "id": "318cc62c-6dd8-4c15-91a9-72c5a9b0a275",
   "metadata": {},
   "outputs": [
    {
     "name": "stdout",
     "output_type": "stream",
     "text": [
      "[]\n",
      "[123]\n",
      "[1, 2, 3]\n",
      "[1, 2, 3]\n",
      "[1, 2, 3]\n",
      "[1, 2, 3]\n",
      "[1, 2, 3]\n",
      "[1, 2, 3]\n"
     ]
    }
   ],
   "source": [
    "# trivial sorts\n",
    "print(selection_sort([]))\n",
    "print(selection_sort([123]))\n",
    "\n",
    "# ordered\n",
    "print(selection_sort([1, 2, 3]))\n",
    "# reverse ordered\n",
    "print(selection_sort([3, 2, 1]))\n",
    "\n",
    "# other permutations\n",
    "print(selection_sort([1, 3, 2]))\n",
    "print(selection_sort([2, 1, 3]))\n",
    "print(selection_sort([2, 3, 1]))\n",
    "print(selection_sort([3, 1, 2]))"
   ]
  },
  {
   "cell_type": "code",
   "execution_count": 29,
   "id": "d576e4fc-d9d9-4ec4-9059-1a9e67504d4a",
   "metadata": {},
   "outputs": [
    {
     "data": {
      "text/html": [
       "<div>\n",
       "<style scoped>\n",
       "    .dataframe tbody tr th:only-of-type {\n",
       "        vertical-align: middle;\n",
       "    }\n",
       "\n",
       "    .dataframe tbody tr th {\n",
       "        vertical-align: top;\n",
       "    }\n",
       "\n",
       "    .dataframe thead th {\n",
       "        text-align: right;\n",
       "    }\n",
       "</style>\n",
       "<table border=\"1\" class=\"dataframe\">\n",
       "  <thead>\n",
       "    <tr style=\"text-align: right;\">\n",
       "      <th></th>\n",
       "      <th>array_size</th>\n",
       "      <th>time</th>\n",
       "    </tr>\n",
       "  </thead>\n",
       "  <tbody>\n",
       "    <tr>\n",
       "      <th>0</th>\n",
       "      <td>1</td>\n",
       "      <td>0.000008</td>\n",
       "    </tr>\n",
       "    <tr>\n",
       "      <th>1</th>\n",
       "      <td>1</td>\n",
       "      <td>0.000006</td>\n",
       "    </tr>\n",
       "    <tr>\n",
       "      <th>2</th>\n",
       "      <td>1</td>\n",
       "      <td>0.000003</td>\n",
       "    </tr>\n",
       "    <tr>\n",
       "      <th>3</th>\n",
       "      <td>1</td>\n",
       "      <td>0.000003</td>\n",
       "    </tr>\n",
       "    <tr>\n",
       "      <th>4</th>\n",
       "      <td>1</td>\n",
       "      <td>0.000004</td>\n",
       "    </tr>\n",
       "    <tr>\n",
       "      <th>...</th>\n",
       "      <td>...</td>\n",
       "      <td>...</td>\n",
       "    </tr>\n",
       "    <tr>\n",
       "      <th>9985</th>\n",
       "      <td>999</td>\n",
       "      <td>0.131322</td>\n",
       "    </tr>\n",
       "    <tr>\n",
       "      <th>9986</th>\n",
       "      <td>999</td>\n",
       "      <td>0.135655</td>\n",
       "    </tr>\n",
       "    <tr>\n",
       "      <th>9987</th>\n",
       "      <td>999</td>\n",
       "      <td>0.141280</td>\n",
       "    </tr>\n",
       "    <tr>\n",
       "      <th>9988</th>\n",
       "      <td>999</td>\n",
       "      <td>0.142004</td>\n",
       "    </tr>\n",
       "    <tr>\n",
       "      <th>9989</th>\n",
       "      <td>999</td>\n",
       "      <td>0.124200</td>\n",
       "    </tr>\n",
       "  </tbody>\n",
       "</table>\n",
       "<p>9990 rows × 2 columns</p>\n",
       "</div>"
      ],
      "text/plain": [
       "      array_size      time\n",
       "0              1  0.000008\n",
       "1              1  0.000006\n",
       "2              1  0.000003\n",
       "3              1  0.000003\n",
       "4              1  0.000004\n",
       "...          ...       ...\n",
       "9985         999  0.131322\n",
       "9986         999  0.135655\n",
       "9987         999  0.141280\n",
       "9988         999  0.142004\n",
       "9989         999  0.124200\n",
       "\n",
       "[9990 rows x 2 columns]"
      ]
     },
     "execution_count": 29,
     "metadata": {},
     "output_type": "execute_result"
    }
   ],
   "source": [
    "df = pd.DataFrame(columns=(\"array_size\", \"time\"));\n",
    "\n",
    "# be careful with size, because time complexity is quadratic\n",
    "sizes = np.arange(1, 1000)\n",
    "number_of_trials = 10\n",
    "\n",
    "for array_size in sizes:\n",
    "    arr = np.arange(array_size)\n",
    "    rng = np.random.default_rng()\n",
    "    rng.shuffle(arr)\n",
    "    \n",
    "    for i in range(number_of_trials):\n",
    "        start = timer()\n",
    "        sorted_arr = selection_sort(arr)\n",
    "        end = timer()\n",
    "        delta = end - start\n",
    "        \n",
    "        new_row = {\n",
    "            \"array_size\": array_size,\n",
    "            \"time\": delta\n",
    "        }\n",
    "        \n",
    "        df.loc[len(df)] = new_row\n",
    "\n",
    "df"
   ]
  },
  {
   "cell_type": "code",
   "execution_count": 30,
   "id": "fe60f12f-7915-4208-a7c2-69c41a703cc3",
   "metadata": {},
   "outputs": [
    {
     "data": {
      "text/plain": [
       "<AxesSubplot:xlabel='array_size', ylabel='time'>"
      ]
     },
     "execution_count": 30,
     "metadata": {},
     "output_type": "execute_result"
    },
    {
     "data": {
      "image/png": "[encoded data removed]",
      "text/plain": [
       "<Figure size 432x288 with 1 Axes>"
      ]
     },
     "metadata": {
      "needs_background": "light"
     },
     "output_type": "display_data"
    }
   ],
   "source": [
    "df_sample = df.sample(5000)\n",
    "sns.scatterplot(data=df_sample, x=\"array_size\", y=\"time\")"
   ]
  },
  {
   "cell_type": "markdown",
   "id": "8a7fb42a-b3da-443f-938c-b39e59dddd6a",
   "metadata": {},
   "source": [
    "O(n^2)"
   ]
  },
  {
   "cell_type": "code",
   "execution_count": 31,
   "id": "021fa194-6599-4b60-b49a-4aa6bf66b939",
   "metadata": {},
   "outputs": [
    {
     "data": {
      "text/html": [
       "<div>\n",
       "<style scoped>\n",
       "    .dataframe tbody tr th:only-of-type {\n",
       "        vertical-align: middle;\n",
       "    }\n",
       "\n",
       "    .dataframe tbody tr th {\n",
       "        vertical-align: top;\n",
       "    }\n",
       "\n",
       "    .dataframe thead th {\n",
       "        text-align: right;\n",
       "    }\n",
       "</style>\n",
       "<table border=\"1\" class=\"dataframe\">\n",
       "  <thead>\n",
       "    <tr style=\"text-align: right;\">\n",
       "      <th></th>\n",
       "      <th>array_size</th>\n",
       "      <th>mean_time</th>\n",
       "    </tr>\n",
       "  </thead>\n",
       "  <tbody>\n",
       "    <tr>\n",
       "      <th>0</th>\n",
       "      <td>1</td>\n",
       "      <td>0.000004</td>\n",
       "    </tr>\n",
       "    <tr>\n",
       "      <th>1</th>\n",
       "      <td>2</td>\n",
       "      <td>0.000008</td>\n",
       "    </tr>\n",
       "    <tr>\n",
       "      <th>2</th>\n",
       "      <td>3</td>\n",
       "      <td>0.000010</td>\n",
       "    </tr>\n",
       "    <tr>\n",
       "      <th>3</th>\n",
       "      <td>4</td>\n",
       "      <td>0.000011</td>\n",
       "    </tr>\n",
       "    <tr>\n",
       "      <th>4</th>\n",
       "      <td>5</td>\n",
       "      <td>0.000012</td>\n",
       "    </tr>\n",
       "    <tr>\n",
       "      <th>...</th>\n",
       "      <td>...</td>\n",
       "      <td>...</td>\n",
       "    </tr>\n",
       "    <tr>\n",
       "      <th>994</th>\n",
       "      <td>995</td>\n",
       "      <td>0.139634</td>\n",
       "    </tr>\n",
       "    <tr>\n",
       "      <th>995</th>\n",
       "      <td>996</td>\n",
       "      <td>0.135719</td>\n",
       "    </tr>\n",
       "    <tr>\n",
       "      <th>996</th>\n",
       "      <td>997</td>\n",
       "      <td>0.136137</td>\n",
       "    </tr>\n",
       "    <tr>\n",
       "      <th>997</th>\n",
       "      <td>998</td>\n",
       "      <td>0.139412</td>\n",
       "    </tr>\n",
       "    <tr>\n",
       "      <th>998</th>\n",
       "      <td>999</td>\n",
       "      <td>0.136725</td>\n",
       "    </tr>\n",
       "  </tbody>\n",
       "</table>\n",
       "<p>999 rows × 2 columns</p>\n",
       "</div>"
      ],
      "text/plain": [
       "     array_size  mean_time\n",
       "0             1   0.000004\n",
       "1             2   0.000008\n",
       "2             3   0.000010\n",
       "3             4   0.000011\n",
       "4             5   0.000012\n",
       "..          ...        ...\n",
       "994         995   0.139634\n",
       "995         996   0.135719\n",
       "996         997   0.136137\n",
       "997         998   0.139412\n",
       "998         999   0.136725\n",
       "\n",
       "[999 rows x 2 columns]"
      ]
     },
     "execution_count": 31,
     "metadata": {},
     "output_type": "execute_result"
    }
   ],
   "source": [
    "df_mean_times = df.groupby('array_size', as_index=False).agg(mean_time=pd.NamedAgg(column=\"time\", aggfunc=\"mean\"))\n",
    "df_mean_times"
   ]
  },
  {
   "cell_type": "code",
   "execution_count": 32,
   "id": "625853e8-7b5c-4ca1-9891-c4c42855988d",
   "metadata": {
    "tags": []
   },
   "outputs": [
    {
     "data": {
      "text/plain": [
       "<AxesSubplot:xlabel='array_size', ylabel='mean_time'>"
      ]
     },
     "execution_count": 32,
     "metadata": {},
     "output_type": "execute_result"
    },
    {
     "data": {
      "image/png": "[encoded data removed]",
      "text/plain": [
       "<Figure size 432x288 with 1 Axes>"
      ]
     },
     "metadata": {
      "needs_background": "light"
     },
     "output_type": "display_data"
    }
   ],
   "source": [
    "sns.scatterplot(data=df_mean_times.sample(500), x=\"array_size\", y=\"mean_time\")"
   ]
  },
  {
   "cell_type": "markdown",
   "id": "9f6f85b6-a4d4-4b07-98d5-3c232bec1225",
   "metadata": {},
   "source": [
    "Also O(n^2), about two times faster than bubble sort"
   ]
  },
  {
   "cell_type": "markdown",
   "id": "1d32871e-51a0-4ce4-a01a-558b79f03658",
   "metadata": {},
   "source": [
    "Now i will try to estimate time with linear regression"
   ]
  },
  {
   "cell_type": "code",
   "execution_count": 33,
   "id": "385ea04a-a974-4e87-8eac-a00f9abd33e0",
   "metadata": {},
   "outputs": [
    {
     "data": {
      "text/html": [
       "<div>\n",
       "<style scoped>\n",
       "    .dataframe tbody tr th:only-of-type {\n",
       "        vertical-align: middle;\n",
       "    }\n",
       "\n",
       "    .dataframe tbody tr th {\n",
       "        vertical-align: top;\n",
       "    }\n",
       "\n",
       "    .dataframe thead th {\n",
       "        text-align: right;\n",
       "    }\n",
       "</style>\n",
       "<table border=\"1\" class=\"dataframe\">\n",
       "  <thead>\n",
       "    <tr style=\"text-align: right;\">\n",
       "      <th></th>\n",
       "      <th>array_size</th>\n",
       "      <th>array_size^2</th>\n",
       "      <th>time</th>\n",
       "    </tr>\n",
       "  </thead>\n",
       "  <tbody>\n",
       "    <tr>\n",
       "      <th>0</th>\n",
       "      <td>1</td>\n",
       "      <td>1</td>\n",
       "      <td>0.000008</td>\n",
       "    </tr>\n",
       "    <tr>\n",
       "      <th>1</th>\n",
       "      <td>1</td>\n",
       "      <td>1</td>\n",
       "      <td>0.000006</td>\n",
       "    </tr>\n",
       "    <tr>\n",
       "      <th>2</th>\n",
       "      <td>1</td>\n",
       "      <td>1</td>\n",
       "      <td>0.000003</td>\n",
       "    </tr>\n",
       "    <tr>\n",
       "      <th>3</th>\n",
       "      <td>1</td>\n",
       "      <td>1</td>\n",
       "      <td>0.000003</td>\n",
       "    </tr>\n",
       "    <tr>\n",
       "      <th>4</th>\n",
       "      <td>1</td>\n",
       "      <td>1</td>\n",
       "      <td>0.000004</td>\n",
       "    </tr>\n",
       "    <tr>\n",
       "      <th>...</th>\n",
       "      <td>...</td>\n",
       "      <td>...</td>\n",
       "      <td>...</td>\n",
       "    </tr>\n",
       "    <tr>\n",
       "      <th>9985</th>\n",
       "      <td>999</td>\n",
       "      <td>998001</td>\n",
       "      <td>0.131322</td>\n",
       "    </tr>\n",
       "    <tr>\n",
       "      <th>9986</th>\n",
       "      <td>999</td>\n",
       "      <td>998001</td>\n",
       "      <td>0.135655</td>\n",
       "    </tr>\n",
       "    <tr>\n",
       "      <th>9987</th>\n",
       "      <td>999</td>\n",
       "      <td>998001</td>\n",
       "      <td>0.141280</td>\n",
       "    </tr>\n",
       "    <tr>\n",
       "      <th>9988</th>\n",
       "      <td>999</td>\n",
       "      <td>998001</td>\n",
       "      <td>0.142004</td>\n",
       "    </tr>\n",
       "    <tr>\n",
       "      <th>9989</th>\n",
       "      <td>999</td>\n",
       "      <td>998001</td>\n",
       "      <td>0.124200</td>\n",
       "    </tr>\n",
       "  </tbody>\n",
       "</table>\n",
       "<p>9990 rows × 3 columns</p>\n",
       "</div>"
      ],
      "text/plain": [
       "      array_size  array_size^2      time\n",
       "0              1             1  0.000008\n",
       "1              1             1  0.000006\n",
       "2              1             1  0.000003\n",
       "3              1             1  0.000003\n",
       "4              1             1  0.000004\n",
       "...          ...           ...       ...\n",
       "9985         999        998001  0.131322\n",
       "9986         999        998001  0.135655\n",
       "9987         999        998001  0.141280\n",
       "9988         999        998001  0.142004\n",
       "9989         999        998001  0.124200\n",
       "\n",
       "[9990 rows x 3 columns]"
      ]
     },
     "execution_count": 33,
     "metadata": {},
     "output_type": "execute_result"
    }
   ],
   "source": [
    "df_regression = pd.DataFrame({\n",
    "    'array_size': df['array_size'],\n",
    "    'array_size^2': df['array_size']**2,\n",
    "    'time': df['time']\n",
    "})\n",
    "df_regression"
   ]
  },
  {
   "cell_type": "code",
   "execution_count": 34,
   "id": "a965b2dc-8731-414c-ac7a-06432a093173",
   "metadata": {},
   "outputs": [
    {
     "data": {
      "text/plain": [
       "LinearRegression()"
      ]
     },
     "execution_count": 34,
     "metadata": {},
     "output_type": "execute_result"
    }
   ],
   "source": [
    "from sklearn.linear_model import LinearRegression\n",
    "\n",
    "model = LinearRegression()\n",
    "X = df_regression[['array_size', 'array_size^2']]\n",
    "y = df_regression['time']\n",
    "\n",
    "model.fit(X, y)"
   ]
  },
  {
   "cell_type": "code",
   "execution_count": 35,
   "id": "35a76114-2c60-4af1-8480-6eb2b2bbc4cc",
   "metadata": {},
   "outputs": [
    {
     "data": {
      "text/plain": [
       "array([2.75844027e-06, 1.38826583e-07])"
      ]
     },
     "execution_count": 35,
     "metadata": {},
     "output_type": "execute_result"
    }
   ],
   "source": [
    "model.coef_"
   ]
  },
  {
   "cell_type": "code",
   "execution_count": 36,
   "id": "64b8ef79-367d-4a46-a656-639b91602a41",
   "metadata": {},
   "outputs": [],
   "source": [
    "regression_array_size = np.arange(1, 1000)\n",
    "df_regression_predicted = pd.DataFrame({\n",
    "    'array_size': regression_array_size,\n",
    "    'array_size^2': regression_array_size**2\n",
    "})\n",
    "\n",
    "df_regression_predicted['time'] = model.predict(df_regression_predicted)"
   ]
  },
  {
   "cell_type": "code",
   "execution_count": 37,
   "id": "42c72e96-26bd-456e-bb16-0af1ce02a721",
   "metadata": {},
   "outputs": [
    {
     "data": {
      "text/plain": [
       "<AxesSubplot:xlabel='array_size', ylabel='time'>"
      ]
     },
     "execution_count": 37,
     "metadata": {},
     "output_type": "execute_result"
    },
    {
     "data": {
      "image/png": "[encoded data removed]",
      "text/plain": [
       "<Figure size 432x288 with 1 Axes>"
      ]
     },
     "metadata": {
      "needs_background": "light"
     },
     "output_type": "display_data"
    }
   ],
   "source": [
    "fig, ax = plt.subplots()\n",
    "\n",
    "sns.scatterplot(ax=ax, data=df.sample(500), x=\"array_size\", y=\"time\")\n",
    "sns.lineplot(ax=ax, data=df_regression_predicted, x=\"array_size\", y=\"time\", color=\"red\", linewidth = 3)"
   ]
  },
  {
   "cell_type": "markdown",
   "id": "063222c2-98bc-4658-9cbc-1c39f79f259f",
   "metadata": {},
   "source": [
    "For selection sort number of comparison grows as O(n^2), but number of swaps is O(n). That's why it is faster than bubble sor"
   ]
  }
 ],
 "metadata": {
  "kernelspec": {
   "display_name": "Python 3 (ipykernel)",
   "language": "python",
   "name": "python3"
  },
  "language_info": {
   "codemirror_mode": {
    "name": "ipython",
    "version": 3
   },
   "file_extension": ".py",
   "mimetype": "text/x-python",
   "name": "python",
   "nbconvert_exporter": "python",
   "pygments_lexer": "ipython3",
   "version": "3.9.12"
  }
 },
 "nbformat": 4,
 "nbformat_minor": 5
}
